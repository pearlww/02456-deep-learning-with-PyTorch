{
 "cells": [
  {
   "cell_type": "markdown",
   "metadata": {
    "colab_type": "text",
<<<<<<< Updated upstream
    "id": "HAva8TnYFtFu"
=======
    "id": "osoqssDvPyMV"
>>>>>>> Stashed changes
   },
   "source": [
    "# Contents and why we need this lab\n",
    "\n",
    "This lab is about implementing neural networks yourself in NumPy before we start using other frameworks which hide some of the computation from you. It builds on the first lab where you derived the equations for neural network forward and backward propagation and gradient descent parameter updates."
   ]
  },
  {
   "cell_type": "markdown",
   "metadata": {
    "colab_type": "text",
<<<<<<< Updated upstream
    "id": "sCa7HzwpFtFy"
=======
    "id": "hICUgOtjPyMY"
>>>>>>> Stashed changes
   },
   "source": [
    "# External sources of information\n",
    "\n",
    "1. Jupyter notebook. You can find more information about Jupyter notebooks [here](https://jupyter.org/). It will come as part of the [Anaconda](https://www.anaconda.com/) Python installation. \n",
    "2. [NumPy](https://numpy.org/). Part of Anaconda distribution. If you already know how to program most things about Python and NumPy can be found through Google search. \n"
   ]
  },
  {
   "cell_type": "markdown",
   "metadata": {
    "colab_type": "text",
<<<<<<< Updated upstream
    "id": "1SjiIp-TFtF0"
=======
    "id": "XF0V2gDaPyMZ"
>>>>>>> Stashed changes
   },
   "source": [
    "# This notebook will follow the next steps:\n",
    "\n",
    "1. Data generation\n",
    "2. Initialization of parameters\n",
    "3. Definition of activation functions   \n",
    "4. A short explanation of numpy's einsum function\n",
    "5. Forward pass\n",
    "6. Backward pass (backward pass and finite differences)\n",
    "7. Training loop \n",
    "8. Testing your model\n",
    "9. Further extensions"
   ]
  },
  {
   "cell_type": "markdown",
   "metadata": {
    "colab_type": "text",
<<<<<<< Updated upstream
    "id": "VvtTIP_qFtF2"
=======
    "id": "JKPsSMNmPyMb"
>>>>>>> Stashed changes
   },
   "source": [
    "# Create an artificial dataset to play with\n",
    "\n",
    "We create a non-linear 1d regression task. The generator supports various noise levels and it creates train, validation and test sets. You can modify it yourself if you want more or less challenging tasks."
   ]
  },
  {
   "cell_type": "code",
<<<<<<< Updated upstream
   "execution_count": null,
   "metadata": {
    "colab": {},
    "colab_type": "code",
    "collapsed": true,
    "id": "PB-yRe4aFtF5"
=======
   "execution_count": 25,
   "metadata": {
    "colab": {},
    "colab_type": "code",
    "id": "OtDHZSr2PyMc"
>>>>>>> Stashed changes
   },
   "outputs": [],
   "source": [
    "import numpy as np\n",
    "import matplotlib.pyplot as plt\n",
    "\n",
    "np.random.seed(42)"
   ]
  },
  {
   "cell_type": "code",
<<<<<<< Updated upstream
   "execution_count": null,
   "metadata": {
    "colab": {},
    "colab_type": "code",
    "collapsed": true,
    "id": "smI4QFhzFtGH"
=======
   "execution_count": 26,
   "metadata": {
    "colab": {},
    "colab_type": "code",
    "id": "_ZoePrY6PyMh"
>>>>>>> Stashed changes
   },
   "outputs": [],
   "source": [
    "def data_generator(noise=0.1, n_samples=300, D1=True):\n",
    "    # Create covariates and response variable\n",
    "    if D1:\n",
    "        X = np.linspace(-3, 3, num=n_samples).reshape(-1,1) # 1-D\n",
    "        np.random.shuffle(X)\n",
    "        y = np.random.normal((0.5*np.sin(X[:,0]*3) + X[:,0]), noise) # 1-D with trend\n",
    "    else:\n",
    "        X = np.random.multivariate_normal(np.zeros(3), noise*np.eye(3), size = n_samples) # 3-D\n",
    "        np.random.shuffle(X)    \n",
    "        y = np.sin(X[:,0]) - 5*(X[:,1]**2) + 0.5*X[:,2] # 3-D\n",
    "\n",
    "    # Stack them together vertically to split data set\n",
    "    data_set = np.vstack((X.T,y)).T\n",
    "    \n",
    "    train, validation, test = np.split(data_set, [int(0.35*n_samples), int(0.7*n_samples)], axis=0)\n",
    "    \n",
    "    # Standardization of the data, remember we do the standardization with the training set mean and standard deviation\n",
    "    train_mu = np.mean(train, axis=0)\n",
    "    train_sigma = np.std(train, axis=0)\n",
    "    \n",
    "    train = (train-train_mu)/train_sigma\n",
    "    validation = (validation-train_mu)/train_sigma\n",
    "    test = (test-train_mu)/train_sigma\n",
    "    \n",
    "    x_train, x_validation, x_test = train[:,:-1], validation[:,:-1], test[:,:-1]\n",
    "    y_train, y_validation, y_test = train[:,-1], validation[:,-1], test[:,-1]\n",
    "\n",
    "    return x_train, y_train,  x_validation, y_validation, x_test, y_test"
   ]
  },
  {
   "cell_type": "code",
<<<<<<< Updated upstream
   "execution_count": null,
   "metadata": {
    "colab": {},
    "colab_type": "code",
    "collapsed": true,
    "id": "FKvkAODOFtGQ"
   },
   "outputs": [],
   "source": [
=======
   "execution_count": 27,
   "metadata": {
    "colab": {},
    "colab_type": "code",
    "id": "0FGSJoGZPyMl"
   },
   "outputs": [],
   "source": [
    "#D1 = False\n",
>>>>>>> Stashed changes
    "D1 = True\n",
    "x_train, y_train,  x_validation, y_validation, x_test, y_test = data_generator(noise=0.5, D1=D1)"
   ]
  },
  {
   "cell_type": "code",
<<<<<<< Updated upstream
   "execution_count": null,
   "metadata": {
    "colab": {},
    "colab_type": "code",
    "id": "im2-MOcwFtGW"
   },
   "outputs": [],
=======
   "execution_count": 28,
   "metadata": {
    "colab": {
     "base_uri": "https://localhost:8080/",
     "height": 265
    },
    "colab_type": "code",
    "id": "l07UcVt5PyMu",
    "outputId": "e8e16a41-826d-4592-bd36-febcb331c4f2"
   },
   "outputs": [
    {
     "data": {
      "image/png": "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\n",
      "text/plain": [
       "<Figure size 432x288 with 1 Axes>"
      ]
     },
     "metadata": {
      "needs_background": "light"
     },
     "output_type": "display_data"
    }
   ],
>>>>>>> Stashed changes
   "source": [
    "if D1:\n",
    "    plt.scatter(x_train[:,0], y_train);\n",
    "    plt.scatter(x_validation[:,0], y_validation);\n",
    "    plt.scatter(x_test[:,0], y_test);\n",
    "else:\n",
    "    plt.scatter(x_train[:,1], y_train);\n",
    "    plt.scatter(x_validation[:,1], y_validation);\n",
    "    plt.scatter(x_test[:,1], y_test);\n",
    "plt.show()"
   ]
  },
  {
   "cell_type": "markdown",
   "metadata": {
    "colab_type": "text",
<<<<<<< Updated upstream
    "id": "QUMD2aNKFtGd"
=======
    "id": "wqMhXBxZPyMy"
>>>>>>> Stashed changes
   },
   "source": [
    "# Initialization"
   ]
  },
  {
   "cell_type": "markdown",
   "metadata": {
    "colab_type": "text",
<<<<<<< Updated upstream
    "id": "VbjrqcpVFtGe"
=======
    "id": "gCy-ZYDyPyMz"
>>>>>>> Stashed changes
   },
   "source": [
    "The steps to create a feed forward neural network are the following:\n",
    "\n",
    "1. **Number of hidden layer and hidden units**. We have to define the number of hidden units in each layer. We are going to save these numbers in a list \"L\" that is going to start with our input dimensionality (the number of features in X) and is going to finish with our output dimensionality (the size of Y). Anything in between these values are going to be hidden layers and the number of hidden units in each hidden layer is defined by the researcher. Remember that for each unit in each layer (besides the first one, according to our list L) there is a bias term.\n",
    "2. **Activation functions** for each hidden layer. Each hidden layer in your list must have an activation function (it can also be the linear activation which is equivalent to identity function). The power of neural networks comes from non-linear activation functions that learn representations (features) from the data allowing us to learn from it. \n",
    "3. **Parameter initialization**. We will initialize the weights to have random values. This is done in practice by drawing pseudo random numbers from a Gaussian or uniform distribution. It turns out that for deeper models we have to be careful about how we scale the random numbers. This will be the topic of the exercise below. For now we will just use unit variance Gaussians.  \n",
    "\n",
    "Our initialization will work as follows: \n",
    "\n",
    "For each layer of the neural network defined in L, initialize a matrix of weights of size (units_in, units_out) from a random normal distribution [np.random.normal()](https://docs.scipy.org/doc/numpy-1.15.0/reference/generated/numpy.random.normal.html) and save them in a list called \"layers\". For each layer in our neural network, initialize a matrix of weights of size (1, units_out) as above and save them in a list called \"bias\". The function should return a tuple (layers, bias). The length of our lists must be len(L)-1."
   ]
  },
  {
   "cell_type": "code",
<<<<<<< Updated upstream
   "execution_count": null,
   "metadata": {
    "colab": {},
    "colab_type": "code",
    "id": "MrcirTTHFtGf"
=======
   "execution_count": 30,
   "metadata": {
    "colab": {},
    "colab_type": "code",
    "id": "S1IUyotVPyM0"
>>>>>>> Stashed changes
   },
   "outputs": [],
   "source": [
    "# Initialize neural network:\n",
    "# the NN is a tuple with a list with weights and list with biases\n",
    "def init_NN(L):\n",
    "    \"\"\"\n",
    "    Function that initializes our feed-forward neural network. \n",
    "    Input: \n",
    "    L: list of integers. The first element must be equal to the number of features of x and the last element \n",
    "        must be the number of outputs in the network.\n",
    "    Output:\n",
    "    A tuple of:\n",
    "    weights: a list with randomly initialized weights of shape (in units, out units) each. The units are the ones we defined in L.\n",
    "        For example, if L = [2, 3, 4] layers must be a list with a first element of shape (2, 3) and a second elemtn of shape (3, 4). \n",
    "        The length of layers must be len(L)-1\n",
    "    biases: a list with randomly initialized biases of shape (1, out_units) each. For the example above, bias would be a list of length\n",
    "        2 with a first element of shape (1, 3) and a second element of shape (1, 4).\n",
    "    \"\"\"\n",
    "    weights = []\n",
    "    biases  = []\n",
    "    for i in range(len(L)-1):\n",
    "        weights.append(np.random.normal(loc=0.0, scale=1.0, size=[L[i],L[i+1]])) \n",
    "        biases.append(np.random.normal(loc=0.0, scale=1.0, size=[1, L[i+1]]))     \n",
    "        \n",
    "    return (weights, biases)\n",
    "\n",
    "# Initialize the unit test neural network:\n",
    "# Same steps as above but we will not initialize the weights randomly.\n",
    "def init_NN_UT(L):\n",
    "    weights = []\n",
    "    biases  = []\n",
    "    for i in range(len(L)-1):\n",
    "        weights.append(np.ones((L[i],L[i+1]))) \n",
    "        biases.append(np.ones((1, L[i+1])))     \n",
    "        \n",
    "    return (weights, biases)\n",
    "\n",
    "# Initializer the unit test neural network\n",
    "L_UT  = [3, 5, 1]\n",
    "NN_UT = init_NN_UT(L_UT)"
   ]
  },
  {
   "cell_type": "markdown",
   "metadata": {
    "colab_type": "text",
<<<<<<< Updated upstream
    "id": "oLrGJytZFtGm"
=======
    "id": "GcIOAnHXPyM4"
>>>>>>> Stashed changes
   },
   "source": [
    "## Exercise a) Print all network parameters\n",
    "\n",
    "Make a function that prints all parameters (weights and biases) with information about in which layer the parameters are."
   ]
  },
  {
   "cell_type": "code",
<<<<<<< Updated upstream
   "execution_count": null,
   "metadata": {
    "colab": {},
    "colab_type": "code",
    "collapsed": true,
    "id": "iac-VwYGFtGm"
   },
   "outputs": [],
   "source": [
    "# Insert code here"
=======
   "execution_count": 31,
   "metadata": {
    "colab": {
     "base_uri": "https://localhost:8080/",
     "height": 186
    },
    "colab_type": "code",
    "id": "Pcho4OQ9PyM5",
    "outputId": "235761b0-9884-46da-98dc-9c5c517653c9"
   },
   "outputs": [
    {
     "name": "stdout",
     "output_type": "stream",
     "text": [
      "weights layer 1: [[1. 1. 1. 1. 1.]\n",
      " [1. 1. 1. 1. 1.]\n",
      " [1. 1. 1. 1. 1.]]\n",
      "bias layer1: [[1. 1. 1. 1. 1.]]\n",
      "weights layer 2: [[1.]\n",
      " [1.]\n",
      " [1.]\n",
      " [1.]\n",
      " [1.]]\n",
      "bias layer2: [[1.]]\n"
     ]
    }
   ],
   "source": [
    "# Insert code here\n",
    "def printPara(para):\n",
    "  weights, bias = para\n",
    "  for i in range(len(weights)):\n",
    "    print(\"weights layer {}:\".format(i+1), weights[i])\n",
    "    print(\"bias layer{}:\".format(i+1), bias[i])\n",
    "printPara(NN_UT)     "
>>>>>>> Stashed changes
   ]
  },
  {
   "cell_type": "markdown",
   "metadata": {
    "colab_type": "text",
<<<<<<< Updated upstream
    "id": "b-jdEl-7FtGs"
=======
    "id": "BuO_jwp1PyNA"
>>>>>>> Stashed changes
   },
   "source": [
    "# Advanced initialization schemes\n",
    "\n",
<<<<<<< Updated upstream
    "If we are not careful with initialization, the signals we propagate forward ($a^{(l)}$, $l=1,\\ldots,L$) and backward ($\\delta^l$, $l=L,L-1,\\ldots,1$) can blow up or shrink to zero. A statistical analysis of the variance of the signals for different activation functions can be found in these two papers: [Glorot initialization](http://proceedings.mlr.press/v9/glorot10a/glorot10a.pdf) and [He initialization](https://arxiv.org/pdf/1502.01852v1.pdf). \n",
    "\n",
    "The result of the analyses are proposals for how to make the initialization such that the variance of the signals (forward and backward) are kept approxmimatly constant when propagating from layer to layer. The exact expressions depend upon the non-linear activation function used. In Glorot initialization, the aim is to keep both the forward and backward variances constant whereas He only aims at keeping the variance in the forward pass constant.\n",
    "\n",
    "We define $n_{in}$ and $n_{out}$ as the number of input units and output units of a particular layer. \n",
    "\n",
    "The Glorot initialization has the form: \n",
    "\n",
    "$$w_{ij} \\sim N \\bigg( 0, \\, \\frac{2 \\alpha }{n_{in} + n_{out}} \\bigg) \\ . $$\n",
    "\n",
    "where $N(\\mu,\\sigma^2)$ is a Gaussian distribution with mean $\\mu$ and variance $\\sigma^2$ and $\\alpha$ is a parameter that depends upon the activation function used. For $\\tanh$, $\\alpha=1$ and for Rectified Linear Unit (ReLU) activations, $\\alpha=2$. (It is also possible to use a uniform distribution for initialization, see [this blog post](https://mmuratarat.github.io/2019-02-25/xavier-glorot-he-weight-init).) \n",
    "\n",
    "The He initialization is very similar\n",
    "\n",
    "$$w_{ij} \\sim N \\bigg( 0, \\, \\frac{\\alpha}{n_{in}} \\bigg) \\ . $$"
=======
    "If we are not careful with initialization we can run into trouble with in both the forward and backward passes. We have random weights with random +/- sign so the signal we pass forward will also be random and zero on average. However, the absolute size of the signal may grow or shrink from layer to layer depending upon the absolute scale of random weights. A statistical analysis of this effect and the same effect for the backward pass are presented in these two papers: [Glorot initialization](http://proceedings.mlr.press/v9/glorot10a/glorot10a.pdf) and [He initialization](https://arxiv.org/pdf/1502.01852v1.pdf). \n",
    "\n",
    "The result of the analyses are proposals for how to make the initialization such that the variance of the signals (forward and backward) are kept constant when propagating layer to layer. The exact expressions depend upon the activation function used.\n",
    "\n",
    "We define $n_{in}$ and $n_{out}$ as the number of input units and output units of a particular layer. \n",
    "\n",
    "In the linked paper, Glorot and Bengio propose that for tanh activation functions the following two alternative initializations:\n",
    "\n",
    "$$w_{ij} \\sim U \\bigg[ -\\sqrt{\\frac{6}{(n_{in} + n_{out})}}, \\, \\sqrt{\\frac{6}{(n_{in} + n_{out})}} \\bigg]$$\n",
    "\n",
    "$$w_{ij} \\sim N \\bigg( 0, \\, \\frac{2}{(n_{in} + n_{out})} \\bigg) \\ . $$\n",
    "\n",
    "Here $U[a,b]$ is a uniform distribution in the interval $a$ to $b$ and $N(\\mu,\\sigma^2)$ is a Gaussian distribution with mean $\\mu$ and variance $\\sigma^2$.\n",
    "\n",
    "He et.al. proposes for Rectified Linear Unit activations (ReLU) the following initialization:\n",
    "\n",
    "$$w_{ij} \\sim U \\bigg[ -\\sqrt{\\frac{6}{n_{in}}}, \\, \\sqrt{\\frac{6}{n_{in}}} \\bigg]$$\n",
    "\n",
    "$$w_{ij} \\sim N \\bigg( 0, \\, \\frac{2}{n_{in}} \\bigg) \\ . $$"
>>>>>>> Stashed changes
   ]
  },
  {
   "cell_type": "markdown",
   "metadata": {
    "colab_type": "text",
<<<<<<< Updated upstream
    "id": "mqeyab9qFtGs"
=======
    "id": "wTFy4UjIPyNB"
>>>>>>> Stashed changes
   },
   "source": [
    "## Exercise b) Glorot and He initialization\n",
    "\n",
    "Implement these initialization schemes by modifying the code given below.\n",
    "\n",
    "**NOTE:** The Gaussian is defined as $N( \\mu, \\, \\sigma^{2})$ but Numpy takes $\\sigma$ as argument.\n",
    "\n",
<<<<<<< Updated upstream
    "Explain briefly how you would test numerically that these initializations have the sought after property. Hint: See plots in Glorot paper."
=======
    "Explain briefly how you would test numerically that these initializations have the sought after property. Hint: See plots in Glorot paper.\n",
    "\n",
    "**Answer:** To test it numerically, just plot the initalized weights and bias, and check the distribution."
>>>>>>> Stashed changes
   ]
  },
  {
   "cell_type": "code",
<<<<<<< Updated upstream
   "execution_count": null,
   "metadata": {
    "colab": {},
    "colab_type": "code",
    "collapsed": true,
    "id": "Qyk01CgaFtGt"
=======
   "execution_count": 43,
   "metadata": {
    "colab": {},
    "colab_type": "code",
    "id": "sSa3ktAFPyNC"
>>>>>>> Stashed changes
   },
   "outputs": [],
   "source": [
    "## Glorot\n",
<<<<<<< Updated upstream
    "def init_NN_glorot_Tanh(L):\n",
=======
    "def init_NN_glorot_Tanh(L, uniform=False):\n",
>>>>>>> Stashed changes
    "    \"\"\"\n",
    "    Initializer using the glorot initialization scheme\n",
    "    \"\"\"\n",
    "    weights = []\n",
    "    biases  = []\n",
    "    for i in range(len(L)-1):\n",
<<<<<<< Updated upstream
    "        std = 1.0 # <- replace with proper initialization\n",
    "        weights.append(np.random.normal(loc=0.0, scale=std, size=[L[i],L[i+1]])) \n",
    "        biases.append(np.random.normal(loc=0.0, scale=std, size=[1, L[i+1]]))       \n",
=======
    "        if uniform:\n",
    "            bound = sqrt(6/(L[0]+L[-1])) # <- replace with proper initialization\n",
    "            weights.append(np.random.uniform(low=-bound, high=bound, size=[L[i],L[i+1]])) \n",
    "            biases.append(np.random.uniform(low=-bound, high=bound, size=[1, L[i+1]]))  \n",
    "        else:\n",
    "            std = sqrt(2/(L[0]+L[-1])) # <- replace with proper initialization\n",
    "            weights.append(np.random.normal(loc=0.0, scale=std, size=[L[i],L[i+1]])) \n",
    "            biases.append(np.random.normal(loc=0.0, scale=std, size=[1, L[i+1]]))       \n",
>>>>>>> Stashed changes
    "        \n",
    "    return (weights, biases)\n",
    "\n",
    "## He\n",
<<<<<<< Updated upstream
    "def init_NN_he_ReLU(L):\n",
=======
    "def init_NN_he_ReLU(L, uniform=False):\n",
>>>>>>> Stashed changes
    "    \"\"\"\n",
    "    Initializer using the He initialization scheme\n",
    "    \"\"\"\n",
    "    weights = []\n",
    "    biases  = []\n",
    "    for i in range(len(L)-1):\n",
<<<<<<< Updated upstream
    "        std = 1.0 # <- replace with proper initialization\n",
    "        weights.append(np.random.normal(loc=0.0, scale=std, size=[L[i],L[i+1]])) \n",
    "        biases.append(np.random.normal(loc=0.0, scale=std, size=[1, L[i+1]]))       \n",
    "        \n",
    "    return (weights, biases)"
=======
    "        if uniform:\n",
    "            bound = sqrt(6/L[0]) # <- replace with proper initialization\n",
    "            weights.append(np.random.uniform(low=-bound, high=bound, size=[L[i],L[i+1]])) \n",
    "            biases.append(np.random.uniform(low=-bound, high=bound, size=[1, L[i+1]]))  \n",
    "        else:\n",
    "            std = sqrt(2/L[0]) # <- replace with proper initialization\n",
    "            weights.append(np.random.normal(loc=0.0, scale=std, size=[L[i],L[i+1]])) \n",
    "            biases.append(np.random.normal(loc=0.0, scale=std, size=[1, L[i+1]]))       \n",
    "        \n",
    "    return (weights, biases)\n"
>>>>>>> Stashed changes
   ]
  },
  {
   "cell_type": "markdown",
   "metadata": {
    "colab_type": "text",
<<<<<<< Updated upstream
    "id": "-u4xk_ORFtGz"
=======
    "id": "TMK7EKDFPyNH"
>>>>>>> Stashed changes
   },
   "source": [
    "# Activation functions\n",
    "\n",
    "To have a full definition of the neural network, we must define an activation function for every layer in our list L (again, exluding the first term, which is the number of input dimensions). Several activation functions have been proposed and have different characteristics. Here, we will implement the linear activation function (the identity function), the sigmoid activation function (squeeshes the outcome of each neuron into the $[0, 1]$ range), the Hyperbolic Tangent (Tanh) that squeeshes the outcome of each neuron to $[-1, 1]$ and the Rectified Linear Unit (ReLU). \n",
    "\n",
    "We will also include the derivative in the function. We need this in order to do our back-propagation algorithm. Don't rush, we will get there soon. For any neural network, save the activation functions in a list. This list must be of size len(L)-1."
   ]
  },
  {
   "cell_type": "markdown",
   "metadata": {
    "colab_type": "text",
<<<<<<< Updated upstream
    "id": "9MkoJmzaFtGz"
=======
    "id": "GORV5YysPyNJ"
>>>>>>> Stashed changes
   },
   "source": [
    "## Linear activation"
   ]
  },
  {
   "cell_type": "code",
<<<<<<< Updated upstream
   "execution_count": null,
   "metadata": {
    "colab": {},
    "colab_type": "code",
    "collapsed": true,
    "id": "3NVVlnwHFtG0"
=======
   "execution_count": 33,
   "metadata": {
    "colab": {},
    "colab_type": "code",
    "id": "_QcI0sQzPyNK"
>>>>>>> Stashed changes
   },
   "outputs": [],
   "source": [
    "def Linear(x, derivative=False):\n",
    "    \"\"\"\n",
    "    Computes the element-wise Linear activation function for an array x\n",
    "    inputs:\n",
    "    x: The array where the function is applied\n",
    "    derivative: if set to True will return the derivative instead of the forward pass\n",
    "    \"\"\"\n",
    "    \n",
    "    if derivative:              # Return the derivative of the function evaluated at x\n",
    "        return np.ones_like(x)\n",
    "    else:                       # Return the forward pass of the function at x\n",
    "        return x"
   ]
  },
  {
   "cell_type": "markdown",
   "metadata": {
    "colab_type": "text",
<<<<<<< Updated upstream
    "id": "8Mm1k6xfFtG4"
=======
    "id": "NiC2Yp50PyNQ"
>>>>>>> Stashed changes
   },
   "source": [
    "## Sigmoid activation"
   ]
  },
  {
   "cell_type": "code",
<<<<<<< Updated upstream
   "execution_count": null,
   "metadata": {
    "colab": {},
    "colab_type": "code",
    "collapsed": true,
    "id": "dBmjKesUFtG6"
=======
   "execution_count": 34,
   "metadata": {
    "colab": {},
    "colab_type": "code",
    "id": "HA4lH2_bPyNR"
>>>>>>> Stashed changes
   },
   "outputs": [],
   "source": [
    "def Sigmoid(x, derivative=False):\n",
    "    \"\"\"\n",
    "    Computes the element-wise Sigmoid activation function for an array x\n",
    "    inputs:\n",
    "    x: The array where the function is applied\n",
    "    derivative: if set to True will return the derivative instead of the forward pass\n",
    "    \"\"\"\n",
    "    f = 1/(1+np.exp(-x))\n",
    "    \n",
    "    if derivative:              # Return the derivative of the function evaluated at x\n",
    "        return f*(1-f)\n",
    "    else:                       # Return the forward pass of the function at x\n",
    "        return f"
   ]
  },
  {
   "cell_type": "markdown",
   "metadata": {
    "colab_type": "text",
<<<<<<< Updated upstream
    "id": "S0ZULT1rFtG_"
=======
    "id": "ijDzXGXCPyNW"
>>>>>>> Stashed changes
   },
   "source": [
    "## Hyperbolic Tangent activation"
   ]
  },
  {
   "cell_type": "code",
<<<<<<< Updated upstream
   "execution_count": null,
   "metadata": {
    "colab": {},
    "colab_type": "code",
    "collapsed": true,
    "id": "fESIXSJIFtHA"
=======
   "execution_count": 35,
   "metadata": {
    "colab": {},
    "colab_type": "code",
    "id": "yoeT4OJKPyNY"
>>>>>>> Stashed changes
   },
   "outputs": [],
   "source": [
    "def Tanh(x, derivative=False):\n",
    "    \"\"\"\n",
    "    Computes the element-wise Sigmoid activation function for an array x\n",
    "    inputs:\n",
    "    x: The array where the function is applied\n",
    "    derivative: if set to True will return the derivative instead of the forward pass\n",
    "    \"\"\"\n",
    "    f = (np.exp(x)-np.exp(-x))/(np.exp(x)+np.exp(-x))\n",
    "    \n",
    "    if derivative:              # Return the derivative of the function evaluated at x\n",
    "        return 1-f**2\n",
    "    else:                       # Return the forward pass of the function at x\n",
    "        return f"
   ]
  },
  {
   "cell_type": "markdown",
   "metadata": {
    "colab_type": "text",
<<<<<<< Updated upstream
    "id": "UVEQqh4LFtHF"
=======
    "id": "S4WvTLyCPyNc"
>>>>>>> Stashed changes
   },
   "source": [
    "## Rectifier linear unit (ReLU)"
   ]
  },
  {
   "cell_type": "code",
<<<<<<< Updated upstream
   "execution_count": null,
   "metadata": {
    "colab": {},
    "colab_type": "code",
    "collapsed": true,
    "id": "wtG8BHKZFtHG"
=======
   "execution_count": 36,
   "metadata": {
    "colab": {},
    "colab_type": "code",
    "id": "gYHRAlbzPyNd"
>>>>>>> Stashed changes
   },
   "outputs": [],
   "source": [
    "def ReLU(x, derivative=False):\n",
    "    \"\"\"\n",
    "    Computes the element-wise Rectifier Linear Unit activation function for an array x\n",
    "    inputs:\n",
    "    x: The array where the function is applied\n",
    "    derivative: if set to True will return the derivative instead of the forward pass\n",
    "    \"\"\"\n",
    "    \n",
    "    if derivative:              # Return the derivative of the function evaluated at x\n",
    "        return (x>0).astype(int)\n",
    "    else:                       # Return the forward pass of the function at x\n",
    "        return np.maximum(x, 0)"
   ]
  },
  {
   "cell_type": "markdown",
   "metadata": {
    "colab_type": "text",
<<<<<<< Updated upstream
    "id": "_79HOAXrFtHK"
=======
    "id": "e82z_P9sPyNh"
>>>>>>> Stashed changes
   },
   "source": [
    "## Visualization"
   ]
  },
  {
   "cell_type": "markdown",
   "metadata": {
    "colab_type": "text",
<<<<<<< Updated upstream
    "id": "RME0JjT_FtHK"
=======
    "id": "C5ntwACXPyNi"
>>>>>>> Stashed changes
   },
   "source": [
    "Now that we have defined our activation functions we can visualize them to see what they look like:"
   ]
  },
  {
   "cell_type": "code",
<<<<<<< Updated upstream
   "execution_count": null,
   "metadata": {
    "colab": {},
    "colab_type": "code",
    "id": "oOL2UolJFtHL"
   },
   "outputs": [],
=======
   "execution_count": 37,
   "metadata": {
    "colab": {
     "base_uri": "https://localhost:8080/",
     "height": 341
    },
    "colab_type": "code",
    "id": "vIEyf9NmPyNj",
    "outputId": "af6d3d70-7e2f-4ad4-d67c-ab8b595a4395"
   },
   "outputs": [
    {
     "data": {
      "image/png": "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\n",
      "text/plain": [
       "<Figure size 360x360 with 1 Axes>"
      ]
     },
     "metadata": {
      "needs_background": "light"
     },
     "output_type": "display_data"
    }
   ],
>>>>>>> Stashed changes
   "source": [
    "x = np.linspace(-6, 6, 100)\n",
    "units = {\n",
    "    \"Linear\": lambda x: Linear(x),\n",
    "    \"Sigmoid\": lambda x: Sigmoid(x),\n",
    "    \"ReLU\": lambda x: ReLU(x),\n",
    "    \"tanh\": lambda x: Tanh(x)\n",
    "}\n",
    "\n",
    "plt.figure(figsize=(5, 5))\n",
    "[plt.plot(x, unit(x), label=unit_name, lw=2) for unit_name, unit in units.items()]\n",
    "plt.legend(loc=2, fontsize=16)\n",
    "plt.title('Our activation functions', fontsize=20)\n",
    "plt.ylim([-2, 5])\n",
    "plt.xlim([-6, 6])\n",
    "plt.show()"
   ]
  },
  {
   "cell_type": "markdown",
   "metadata": {
    "colab_type": "text",
<<<<<<< Updated upstream
    "id": "pnrJX1SGFtHR"
=======
    "id": "h-cBMNlOPyNn"
>>>>>>> Stashed changes
   },
   "source": [
    "## Exercise c) Glorot initialization for all activation functions\n",
    "\n",
    "Implement a function by adding to the code snippet below that can take network L and list of activations function as argument and return a Glorot initialized network.  Hint: [This blog post](https://mmuratarat.github.io/2019-02-25/xavier-glorot-he-weight-init) gives a table for the activation functions we use here.\n",
    "\n",
<<<<<<< Updated upstream
    "Briefly explain in words how these how these values are calculated."
=======
    "Briefly explain in words how these values are calculated.\n",
    "\n",
    "**Answer:** The principle behind these values is to avoid the deep Neural Networks suffer from Vanishing/Exploding Gradients in both forward and backward direction. So we need the variance of the outputs of each layer to be equal to the variance of its inputs, and we also need the gradients to have equal variance before and after flowing through a layer in the reverse direction. \n"
>>>>>>> Stashed changes
   ]
  },
  {
   "cell_type": "code",
<<<<<<< Updated upstream
   "execution_count": null,
   "metadata": {
    "colab": {},
    "colab_type": "code",
    "collapsed": true,
    "id": "qW5UjBhzFtHR"
   },
   "outputs": [],
   "source": [
    "def init_NN_Glorot(L, activations):\n",
    "    \"\"\"\n",
    "    Initializer using the glorot initialization scheme\n",
    "    \"\"\"\n",
    "    # Insert code here\n",
=======
   "execution_count": 45,
   "metadata": {
    "colab": {},
    "colab_type": "code",
    "id": "TigAJpYuPyNo"
   },
   "outputs": [],
   "source": [
    "from math import sqrt\n",
    "def init_NN_Glorot(L, activations, uniform=False):\n",
    "    \"\"\"\n",
    "    Initializer using the glorot initialization scheme\n",
    "    \"\"\"\n",
    "    dic ={ReLU:\"ReLU\",\n",
    "         Sigmoid: \"Sigmoid\",\n",
    "         Linear:\"Linear\",\n",
    "         Tanh:\"Tanh\"}\n",
    "    \n",
    "    # Insert code here\n",
    "    weights = []\n",
    "    biases  = []\n",
    "    for i in range(len(L)-1):\n",
    "        act = activations[i]\n",
    "        if dic[act]==\"ReLU\":\n",
    "            bound = sqrt(2) * sqrt(6/(L[0]+L[-1]))\n",
    "            std = sqrt(2) * sqrt(2/(L[0]+L[-1])) \n",
    "        elif dic[act]==\"Sigm\":\n",
    "            bound = 4*sqrt(6/(L[0]+L[-1]))\n",
    "            std = 4*qrt(2/(L[0]+L[-1]))\n",
    "        else:\n",
    "            bound = sqrt(6/(L[0]+L[-1])) \n",
    "            std = sqrt(2/(L[0]+L[-1])) \n",
    "            \n",
    "        if uniform:\n",
    "            weights.append(np.random.uniform(low=-bound, high=bound, size=[L[i],L[i+1]])) \n",
    "            biases.append(np.random.uniform(low=-bound, high=bound, size=[1, L[i+1]]))  \n",
    "        else:\n",
    "            weights.append(np.random.normal(loc=0.0, scale=std, size=[L[i],L[i+1]])) \n",
    "            biases.append(np.random.normal(loc=0.0, scale=std, size=[1, L[i+1]]))\n",
    "\n",
    "    return (weights, biases)\n",
>>>>>>> Stashed changes
    "\n",
    "# Initializes the unit test neural network\n",
    "L_UT  = [3, 5, 1]\n",
    "ACT_UT = [ReLU, Tanh]\n",
    "NN_Glorot = init_NN_Glorot(L_UT, ACT_UT)"
   ]
  },
  {
   "cell_type": "markdown",
   "metadata": {
    "colab_type": "text",
<<<<<<< Updated upstream
    "id": "-JlvZ6O5FtHV"
=======
    "id": "fJAqYbZlPyNy"
>>>>>>> Stashed changes
   },
   "source": [
    "# Numpy einsum (EINstein SUMmation)"
   ]
  },
  {
   "cell_type": "markdown",
   "metadata": {
    "colab_type": "text",
<<<<<<< Updated upstream
    "id": "zq_yqPEIFtHX"
=======
    "id": "Qw8Lk5tSPyNz"
>>>>>>> Stashed changes
   },
   "source": [
    "[Einsum](https://docs.scipy.org/doc/numpy/reference/generated/numpy.einsum.html) gives us the possibility to compute almost any matrix operation in a single function. You can find a good description in the link above. Here are a few examples of some important uses:\n",
    "\n",
    "**Transpose:** We can write the transpose of matrix $A$:\n",
    "\n",
    "```\n",
    "np.einsum('ij -> ji', A) \n",
    "```\n",
    "\n",
    "**Trace:** We can write the trace of matrix $A$:\n",
    "\n",
    "```\n",
    "np.einsum('ii -> ', A) \n",
    "```\n",
    "\n",
    "**Diagonal:** We can write the diagonal of matrix $A$:\n",
    "\n",
    "```\n",
    "np.einsum('ii -> i', A) \n",
    "```\n",
    " \n",
    "**Matrix product:** We can write the multiplication of matrices $A$ and $B$ as:\n",
    "\n",
    "```\n",
    "np.einsum('ij, jk -> ik', A, B)\n",
    "```\n",
    "\n",
    "Note that $j$ in both matrices $A$ and $B$ should be the same size. \n",
    "\n",
    "**Batched matrix product (or why bothering):** All of the functions we performed above are built in numpy (np.tranpose, np.trace, np.matmul), however, when you want to do more complex operations, it might become less readable and computationaly efficient. Let's introduce a three dimensional matrix $H$ with indices $b,j,k$, where the first dimension is the batch (training example) dimension. In einsum, we can then write:\n",
    "\n",
    "```\n",
    "np.einsum('ij, bjk -> bik', A, H)\n",
    "```\n",
    "\n",
    "In order to perform a batched matrix multiplication where we multiple over the second dimension in the first marix and second dimension in the second matrix. The result is a new three dimensional matrix where the first dimension is the first dimension from $H$ and second is the first dimension from $A$ and last dimension the last dimension from $H$. This is a very simple one line (and readable) way to do matrix operations that will be very useful for neural network code. \n",
    "\n",
    "\n",
    "#### _**Tips and tricks when using einsum**_\n",
    "\n",
    "At the beginning, einsum might be a bit difficult to work with. The most important thing to do when using it is keeping track of the dimensions of your input and output matrices. An easy way to keep track of these dimensions is by using some sort of naming convention. Just like in the batched matrix product above we used $b$ to denote the batch dimension. In all the functions of this notebook, we leave some convention of names of indexes for the einsum in the explanation of the functions. We hope you find them useful!\n",
    "\n",
    "There are some other useful resources to understand numpy.einsum:\n",
    "\n",
    "* [Olexa Bilaniuk's great blogpost on einsum]( https://obilaniu6266h16.wordpress.com/2016/02/04/einstein-summation-in-numpy/ )\n",
    "* [Stackoverflow answer to: Understanding NumPy's einsum]( https://stackoverflow.com/q/26089893/8899404 )\n",
    "* [Jessica Stringham post on einsum]( https://jessicastringham.net/2018/01/01/einsum/ )\n",
    "* [Slides of einstein summation from oxford]( http://www-astro.physics.ox.ac.uk/~sr/lectures/vectors/lecture10final.pdfc )"
   ]
  },
  {
   "cell_type": "markdown",
   "metadata": {
    "colab_type": "text",
<<<<<<< Updated upstream
    "id": "bTMdY5DzFtHY"
=======
    "id": "uH2k1tfcPyN0"
>>>>>>> Stashed changes
   },
   "source": [
    "# Forward pass\n",
    "\n",
    "The forward pass has been implemented for you. Please note how we have used einsum to perform the affine tranformation."
   ]
  },
  {
   "cell_type": "markdown",
   "metadata": {
    "colab_type": "text",
<<<<<<< Updated upstream
    "id": "XTfP_fZEFtHY"
=======
    "id": "NKMcdhZGPyN1"
>>>>>>> Stashed changes
   },
   "source": [
    "#### Indices convention.\n",
    "\n",
    "* $i$: input - layer $l$ dimension.\n",
    "* $o$: output - layer $l+1$ dimension.\n",
    "* $b$: batch size dimension.\n",
    "\n",
    "<u>Attention</u>! \n",
    "\n",
    "By convention we consider column vectors.\n",
    "Depending on your implementation,\n",
    "sometimes you will need to transpose the matrix/vector dimensions. "
   ]
  },
  {
   "cell_type": "markdown",
   "metadata": {
    "colab_type": "text",
<<<<<<< Updated upstream
    "id": "cnlRKk-RFtHa"
=======
    "id": "lK2NEKf1PyN2"
>>>>>>> Stashed changes
   },
   "source": [
    "#### Matrices, Sums and Indices\n",
    "\n",
    "<u>Remember</u>!\n",
    "\n",
    "When we compute a matrix-vector product, the inner indices need to match; if we have $W \\in R^{K \\times J}$ and $z \\in R^{I}$, we can compute the matrix-vector product only if\n",
    "   *  $J=I$, then $Wz$ or \n",
    "   *  $K=I$, then $W^Tz$.\n",
    "   \n",
    "We need to transpose the matrix in the second case. Why?. Hint: inner indices matching).\n",
    "In general these two matrix-vector products are different. So pay attention to dimensions!\n",
    "\n",
    "Similarly, when we sum a matrix and a vector over a dimension, we can sum only if the dimensions match. Given the summation:\n",
    "    $$\\sum_{i=1}^I w_{ki}~z_{i},$$\n",
    "we can sum only if $J=I$.\n",
    "\n",
    "Index Contraction: after summing over an index, the index is contracted and the output is no more a function of that index. This means that if we sum over $i$, the result will be an object without index $i$."
   ]
  },
  {
   "cell_type": "markdown",
   "metadata": {
    "colab_type": "text",
<<<<<<< Updated upstream
    "id": "hAqTEP5GFtHb"
=======
    "id": "dsLiXFzlPyN3"
>>>>>>> Stashed changes
   },
   "source": [
    "#### Unpacking the forward pass. \n",
    "\n",
    "For each layer we want to compute a transformation between the activated units $z$ and the layer parameters $(W, b)$. In particular such transformation is an affine one, of the form:\n",
<<<<<<< Updated upstream
    "$$a^{(l)} = W^{(l)} z^{(l-1)} + b^{(l)},$$\n",
    "followed by a non-linear function (activation)\n",
    "$$z^{(l)} = h(a^{(l)}).$$\n",
=======
    "$$a^{(l+1)} = W^{(l)} z^{(l)} + b^{(l)},$$\n",
    "followed by a non-linear function (activation)\n",
    "$$z^{(l+1)} = h(a^{(l+1)}).$$\n",
>>>>>>> Stashed changes
    "\n",
    "If $W_{oi}$ is an element in a matrix with $O$ rows and $I$ columns, \n",
    "$z_{i}$ is a value in a vector of $I$ units and \n",
    "$b_o$ is a value in a vector of $O$ biases, \n",
    "we can write the affine transformation in different ways:\n",
    "\n",
    "* *Explicit notation*: $$\\sum_{i=1}^{I} w_{oi}~z_{i} + b_o,   \\quad \\forall o=1,...O$$\n",
    "* *Matrix notation*: $$ Wz + b$$ or $$z^{T}W + b$$\n",
    "\n",
    "\n",
    "Given that we have only two indices ($i$ and $o$), after contracting $i$, the output will have dimension $O$."
   ]
  },
  {
   "cell_type": "markdown",
   "metadata": {
    "colab_type": "text",
<<<<<<< Updated upstream
    "id": "MSelaywwFtHd"
=======
    "id": "pLx3pJEJPyN4"
>>>>>>> Stashed changes
   },
   "source": [
    "#### Not so fast!\n",
    "\n",
    "In Deep Learning we have another dimension: the batch size for the data $x$. \n",
    "This additional dimension is needed to pack together samples from the dataset and parallelize computations.\n",
    "\n",
    "So we typically work with matrices $W_{io}$ (notice how the indices are switched now) and vectors $z_i$ in batches, that we write $X = \\{x_{bi}\\}^{B, I}_{i=0, b=0}$ or $Z = \\{z_{bi}\\}^{B, I}_{i=0, b=0}$.\n",
    "\n",
    "Why do we use $W_{io}$ and not $W_{oi}$ as before? In principle we can use both. In practice, given that we want the batch size as first dimension, it is simpler to use $W_{io}$ to match the inner dimensions.\n",
    "As we said before, depending on your specific implementation, you will need to transpose some matrices.\n",
    "\n",
    "$x_{bi}$ means that we process in parallel a batch of $B$ samples (for example $B$=64 images, where each image is a sample) with dimensionality $I$ (for images this dimension is between $10^{3}$ - $10^{6}$). The batch size cannot be too large (Why?) and shouldn't be too small (Why?)."
   ]
  },
  {
   "cell_type": "markdown",
   "metadata": {
    "colab_type": "text",
<<<<<<< Updated upstream
    "id": "QKgTZL-WFtHe"
=======
    "id": "jeDe9N6MPyN5"
>>>>>>> Stashed changes
   },
   "source": [
    "#### einsum\n",
    "\n",
    "If you try to write in numpy a matrix-matrix product or a matrix-tensor product, you will notice that things get coumbersome fast. Additionally, your data could be a structured object with 3/4/5 dimensions ($x_{bijk}$). It's easy to get confused and make some mistakes, in particular when some of such dimensions have the same numerical value but different meaning (imagine a batch of 100 samples with dimension 100).\n",
    "\n",
    "The **einsum** function is explicitly summing over the dimension of choice taking care of the details related to batching in an efficient way. There is a striking similarity between the einsum notation and the explicit notation we have seen before. \n",
    "\n",
    "In the simple example we are working on, using einsum, matmul, or summing over an index is basically the same. \n",
    "For more complex problems in computer vision, natural language processing, generative modeling, etc. einsum helps dealing with the details."
   ]
  },
  {
   "cell_type": "markdown",
   "metadata": {
    "colab_type": "text",
<<<<<<< Updated upstream
    "id": "1BRU4bAVFtHe"
=======
    "id": "L1VgHkDDPyN6"
>>>>>>> Stashed changes
   },
   "source": [
    "#### Putting it all together.\n",
    "\n",
    "Ok! Here we are. Let's write again the explicit form for the batch case. As before, $W \\in R^{I \\times O}$ (or $W^{T} \\in R^{O \\times I}$) is a matrix, $z_{bi}$ is a matrix (or a collection of $b$ row vectors), and $b_o$ is a vector (in practice the bias vector will be broadcasted for all the samples in a batch).\n",
    "\n",
    "* *Explicit notation*: \n",
    "$$\\sum_{i=1}^I z_{bi}~w_{io} + b_{o}, \\quad \\forall o, \\quad \\forall b$$\n",
    "Before, contracting $i$, we ended up with an object of dimension $o$. Now we end up with an object of dimensions $b~\\times~o$.\n",
    "\n",
    "\n",
    "* *Matrix notation*:\n",
    "$$ Z W + b $$"
   ]
  },
  {
   "cell_type": "code",
<<<<<<< Updated upstream
   "execution_count": null,
   "metadata": {
    "colab": {},
    "colab_type": "code",
    "collapsed": true,
    "id": "wQC5NSwQFtHe"
=======
   "execution_count": 46,
   "metadata": {
    "colab": {},
    "colab_type": "code",
    "id": "CqPa33NvPyN7"
>>>>>>> Stashed changes
   },
   "outputs": [],
   "source": [
    "def forward_pass(x, NN, activations):\n",
    "    \"\"\"\n",
    "    This function performs a forward pass. \n",
    "    It saves lists for both affine transforms of units (a) and activated units (z)\n",
    "    Input:\n",
    "    x: The input of the network             (np.array of shape: (batch_size, number_of_features))\n",
    "    NN: The initialized neural network      (tuple of list of matrices)\n",
    "    activations: the activations to be used (list of functions, same len as NN)\n",
    "\n",
    "    Output:\n",
    "    a: A list of affine transformations, that is, all x*w+b.\n",
    "    z: A list of activated units (ALL activated units including input x and output y).\n",
    "    \n",
    "    Shapes for the einsum:\n",
    "    b: batch size\n",
    "    i: size of the input hidden layer (layer l)\n",
    "    o: size of the output (layer l+1)\n",
    "    \"\"\"\n",
    "    z = [x]\n",
    "    a = []\n",
    "    \n",
    "    for l in range(len(NN[0])):\n",
    "        \n",
    "        # layer l parameters (W, bias)\n",
    "        W = NN[0][l]\n",
    "        bias = NN[1][l]\n",
    "        \n",
    "        # \\sum_{i} z^{l}_{bi} W^{l}_{io} in explicit notation\n",
    "        # z * W                          in matrix notation\n",
    "        Wz = np.einsum('bi, io -> bo', z[l], W)\n",
    "        \n",
    "        # z * W + bias\n",
    "        Wzb = Wz + bias\n",
    "        \n",
    "        a.append(Wzb)                  # The affine transform z*w+bias\n",
    "        z.append(activations[l](a[l])) # The non-linearity    \n",
    "    \n",
    "    return a, z"
   ]
  },
  {
   "cell_type": "markdown",
   "metadata": {
    "colab_type": "text",
<<<<<<< Updated upstream
    "id": "-XyXBD37FtHk"
=======
    "id": "j7rdhOI0PyOB"
>>>>>>> Stashed changes
   },
   "source": [
    "# Forward pass unit test\n",
    "\n",
    "Below is a piece of code that takes a very particular setting of the network and inputs and test whether it gives the expected results."
   ]
  },
  {
   "cell_type": "code",
<<<<<<< Updated upstream
   "execution_count": null,
   "metadata": {
    "colab": {},
    "colab_type": "code",
    "collapsed": true,
    "id": "k0miqRUAFtHl"
=======
   "execution_count": 47,
   "metadata": {
    "colab": {},
    "colab_type": "code",
    "id": "GzGGIF0RPyOC"
>>>>>>> Stashed changes
   },
   "outputs": [],
   "source": [
    "ACT_F_UT = [Linear, Linear]\n",
    "test_a, test_z = forward_pass(np.array([[1,1,1]]), NN_UT, ACT_F_UT) # input has shape (1, 3) 1 batch, 3 features\n",
    "\n",
    "# Checking shapes consistency\n",
    "assert np.all(test_z[0]==np.array([1,1,1])) # Are the input vector and the first units the same?\n",
    "assert np.all(test_z[1]==test_a[0])         # Are the first affine transformations and hidden units the same?\n",
    "assert np.all(test_z[2]==test_a[1])         # Are the output units and the affine transformations the same?\n",
    "\n",
    "# Checking correctnes of values\n",
    "# First layer, calculate np.sum(np.array([1,1,1])*np.array([1,1,1]))+1 = 4\n",
    "assert np.all(test_z[1] == 4.)\n",
    "# Second layer, calculate np.sum(np.array([4,4,4,4,4])*np.array([1,1,1,1,1]))+1 = 21\n",
    "assert np.all(test_z[2] == 21.)"
   ]
  },
  {
   "cell_type": "markdown",
   "metadata": {
    "colab_type": "text",
<<<<<<< Updated upstream
    "id": "faCxhfFnFtHp"
=======
    "id": "9iIrCeV8PyOG"
>>>>>>> Stashed changes
   },
   "source": [
    "# Loss functions"
   ]
  },
  {
   "cell_type": "markdown",
   "metadata": {
    "colab_type": "text",
<<<<<<< Updated upstream
    "id": "6JAc_ApuFtHq"
=======
    "id": "WkrzCoDGPyOH"
>>>>>>> Stashed changes
   },
   "source": [
    "In order to perform a backward pass we need to define a loss function and its derivative with respect to the output of the neural network $y$"
   ]
  },
  {
   "cell_type": "code",
<<<<<<< Updated upstream
   "execution_count": null,
   "metadata": {
    "colab": {},
    "colab_type": "code",
    "collapsed": true,
    "id": "I2eDYKvAFtHq"
=======
   "execution_count": 48,
   "metadata": {
    "colab": {},
    "colab_type": "code",
    "id": "m1DLM1KmPyOI"
>>>>>>> Stashed changes
   },
   "outputs": [],
   "source": [
    "def squared_error(t, y, derivative=False):\n",
    "    \"\"\"\n",
    "    Computes the squared error function and its derivative \n",
    "    Input:\n",
    "    t:      target (expected output)          (np.array)\n",
    "    y:      output from forward pass (np.array, must be the same shape as t)\n",
    "    derivative: whether to return the derivative with respect to y or return the loss (boolean)\n",
    "    \"\"\"\n",
    "    if np.shape(t)!=np.shape(y):\n",
    "        print(\"t and y have different shapes\")\n",
    "    if derivative: # Return the derivative of the function\n",
    "        return (y-t)\n",
    "    else:\n",
    "        return 0.5*(y-t)**2"
   ]
  },
  {
   "cell_type": "markdown",
   "metadata": {
    "colab_type": "text",
<<<<<<< Updated upstream
    "id": "SrwSJ2UWFtHu"
=======
    "id": "vrt92arRPyOO"
>>>>>>> Stashed changes
   },
   "source": [
    "## Exercise d) Implement cross entropy loss\n",
    "\n",
    "Insert code below to implement cross-entropy loss for general dimensionality of $t$."
   ]
  },
  {
   "cell_type": "code",
<<<<<<< Updated upstream
   "execution_count": null,
   "metadata": {
    "colab": {},
    "colab_type": "code",
    "collapsed": true,
    "id": "6nMuxyfzFtHv"
=======
   "execution_count": 49,
   "metadata": {
    "colab": {},
    "colab_type": "code",
    "id": "3nM9FsAwPyOP"
>>>>>>> Stashed changes
   },
   "outputs": [],
   "source": [
    "def cross_entropy_loss(t, y, derivative=False):\n",
    "    \"\"\"\n",
    "    Computes the cross entropy loss function and its derivative \n",
    "    Input:\n",
    "    t:      target (expected output)          (np.array)\n",
    "    y:      output from forward pass (np.array, must be the same shape as t)\n",
    "    derivative: whether to return the derivative with respect to y or return the loss (boolean)\n",
    "    \"\"\"\n",
<<<<<<< Updated upstream
    "    ## Insert code here"
=======
    "    ## Insert code here\n",
    "    if np.shape(t)!=np.shape(y):\n",
    "        print(\"t and y have different shapes\")\n",
    "    if derivative: # Return the derivative of the function\n",
    "        return -t*1/y\n",
    "    else:\n",
    "        return -t*np.log(y)"
>>>>>>> Stashed changes
   ]
  },
  {
   "cell_type": "markdown",
   "metadata": {
    "colab_type": "text",
<<<<<<< Updated upstream
    "id": "8fAF5ew4FtHy"
=======
    "id": "1fVlp5yiPyOU"
>>>>>>> Stashed changes
   },
   "source": [
    "# Backward pass "
   ]
  },
  {
   "cell_type": "markdown",
   "metadata": {
    "colab_type": "text",
<<<<<<< Updated upstream
    "id": "VG0W3mxGFtHz"
=======
    "id": "yzbPsbiGPyOW"
>>>>>>> Stashed changes
   },
   "source": [
    "## Exercise e) Complete code for backward pass\n",
    "\n",
    "Below is a implementation of the backward pass with some lines removed. Insert the missing lines."
   ]
  },
  {
   "cell_type": "markdown",
   "metadata": {
    "colab_type": "text",
<<<<<<< Updated upstream
    "id": "0oUWm98uFtH0"
=======
    "id": "ppRahmGePyOX"
>>>>>>> Stashed changes
   },
   "source": [
    "#### Useful resources.\n",
    "\n",
    "Math intro:\n",
    "* https://www.deeplearningbook.org/contents/mlp.html\n",
    "* http://neuralnetworksanddeeplearning.com/chap2.html\n",
    "* http://pandamatak.com/people/anand/771/html/node37.html\n",
    "\n",
    "Code intro:\n",
    "* https://cs231n.github.io/neural-networks-case-study/#grad"
   ]
  },
  {
   "cell_type": "markdown",
   "metadata": {
    "colab_type": "text",
<<<<<<< Updated upstream
    "id": "J-Tp1sP4FtH1"
=======
    "id": "76oMYQvCPyOX"
>>>>>>> Stashed changes
   },
   "source": [
    "<u>Attention!</u>\n",
    "\n",
    "This is a difficult topic. It's normal to be confused and not immediately grasp the complete algorithm. Just work your way through it writing down the equations, writing down a small network explicitly, and thinking about the model."
   ]
  },
  {
   "cell_type": "markdown",
   "metadata": {
    "colab_type": "text",
<<<<<<< Updated upstream
    "id": "WWme3YQcFtH2"
=======
    "id": "lwcG4lKiPyOY"
>>>>>>> Stashed changes
   },
   "source": [
    "#### Unpacking the backward pass.\n",
    "\n",
    "Before we learned how to **forward** data input $X$ in a parametric model $W$ to obtain a final output $y$ and build a loss function $E(t, y)$ that measures how far our prediction $y$ is from the target $t$.\n",
    "For a generic FFN at layer $l$ we can write:\n",
    "\n",
<<<<<<< Updated upstream
    "$$a^{(l)} = W^{(l)} z^{(l-1)} + b^{(l)},$$\n",
    "$$z^{(l)} = h(a^{(l)}),$$\n",
=======
    "$$a^{(l+1)} = W^{(l)} z^{(l)} + b^{(l)},$$\n",
    "$$z^{(l+1)} = h(a^{(l+1)}),$$\n",
>>>>>>> Stashed changes
    "where $z^{(0)}=x$ and $z^{(L)} = y$.\n"
   ]
  },
  {
   "cell_type": "markdown",
   "metadata": {
    "colab_type": "text",
<<<<<<< Updated upstream
    "id": "O5YDMa9lFtH2"
=======
    "id": "D36pPP1hPyOZ"
>>>>>>> Stashed changes
   },
   "source": [
    "#### Backpropagation.\n",
    "\n",
    "As the name suggests, the backpropagation algorithm is a procedure to adjust the model parameters $(W, b)$ \n",
    "<u>*propagating backward a measure of error*</u> such that our prediction $y$ is as close as possible to the target $t$.\n",
    "\n",
    "The proxy we use to measure closeness between $y$ and $t$ is a loss function $E(t, y)$. \n",
    "\n",
    "<u>Attention!</u>\n",
    "This loss is a function of the model parameters through $y = g(x, w, b)$. \n",
    "When we optimize wrt. the model parameters $(W, b)$ we can write the loss as a function of such parameters $E(w, b)$ because $y=g(w, b)$ and $t$ and $x$ are fixed input and output.\n",
    "\n",
    "In practice, backpropagation is a gradient based optimization strategy. \n",
    "Our goal is to compute all the partial derivatives $\\dfrac{\\partial E(w, b)}{\\partial w^l_{ji}}$ and $\\dfrac{\\partial E(w, b)}{\\partial b^l_{j}}$ for each layer $l$ and each unit $i$ and $j$ in the network.\n",
    "\n",
    "Computing the partial derivative wrt. the parameters directly is not easy. \n",
    "The loss depends in a non-linear and hierarchical way from the parameters. What backpropagation give us is an efficient and systematic way to compute the partial derivative as a function of intermediate quantities. The most important of such quantities is the error $\\delta_l$."
   ]
  },
  {
   "cell_type": "markdown",
   "metadata": {
    "colab_type": "text",
<<<<<<< Updated upstream
    "id": "f-a_KrnvFtH3"
=======
    "id": "vHZ2KupNPyOZ"
>>>>>>> Stashed changes
   },
   "source": [
    "#### Error propagation - final layer $L$.\n",
    "\n",
    "Consider the final layer $L$.\n",
    "The partial derivatives can be written as:\n",
    "\n",
    "$$\\dfrac{\\partial E(w, b)}{\\partial w^{L}_{ji}} =\n",
    "\\dfrac{\\partial E}{\\partial z^{L}_j}\n",
    "\\dfrac{\\partial z^{L}_j}{\\partial w^{L}_{ji}} = \n",
    "\\left(\n",
    "\\color{blue}{\\dfrac{\\partial E}{\\partial z^{L}_j}\n",
    "\\dfrac{\\partial z^{L}_j}{\\partial a^{L}_j}}\n",
    "\\right)\n",
    "\\dfrac{\\partial a^{L}_j}{\\partial w^{L}_{ji}} = \n",
    "\\color{blue}{\\delta^{L}_j}~\\dfrac{\\partial a^{L}_j}{\\partial w^{L}_{ji}} = \n",
    "\\delta^{L}_j~z^{L-1}_{i},\n",
    "$$\n",
    "\n",
    "where\n",
    "$a^{L}_j = \\sum_i w^{L}_{ji}~z^{L-1}_i + b^{L}_j$ and $z^{L}_j = h(a^{L}_j).$ \n",
    "\n",
    "$\\delta^{L}_j = \\partial E / \\partial a^{L}_j$ is the error at layer $L$ for unit $j$ and it is what we want to backpropagate. \n",
    "You see that it can be easily computed: \n",
    "$ \\partial E / \\partial z^{L}_j$\n",
    "is just the partial derivative of the loss wrt. to the activation.\n",
    "$ \\partial z^{L}_j / \\partial a^{L}_j$\n",
    "is the partial derivative of the activation wrt. the output of the affine transformation.\n",
    "You already know how to compute these derivative (How?) and consequently you know $\\delta^{L}_j$.\n",
    "\n",
    "For the biases in the final layer the computation is basically the same:\n",
    "\n",
    "$$\\dfrac{\\partial E(w, b)}{\\partial b_{j}} =\n",
    "\\left(\\dfrac{\\partial E}{\\partial z_j}\n",
    "\\dfrac{\\partial z_j}{\\partial a_j}\\right)\n",
    "\\dfrac{\\partial a_j}{\\partial b_{j}} = \n",
    "\\delta_j~\\dfrac{\\partial a_j}{\\partial b_{j}} = \n",
    "\\delta_j.\n",
    "$$\n",
    "\n",
    "You can see that $\\delta_j$ is the same we computed, and the only thing that changes is the partial derivative wrt $w_{ji}$ and $b_j$."
   ]
  },
  {
   "cell_type": "markdown",
   "metadata": {
    "colab_type": "text",
<<<<<<< Updated upstream
    "id": "BOvIa4zKFtH4"
=======
    "id": "V_kNxuKAPyOa"
>>>>>>> Stashed changes
   },
   "source": [
    "#### Error propagation - layer $l$.\n",
    "\n",
    "For a generic layer $l$ we want to derive a recursive formula for the error $\\delta^{l}_j$.\n",
    "In particular, if we at layer $l$ and unit $j$, we consider the $k$ downstream units influenced by $j$:\n",
    "\n",
    "$$\\dfrac{\\partial E(w, b)}{\\partial w^l_{ji}} =\n",
    "\\sum_k\n",
    "\\dfrac{\\partial E}{\\partial a^{l+1}_k}\n",
    "\\dfrac{\\partial a^{l+1}_k}{\\partial w^l_{ji}} =\n",
    "\\left(\n",
    "\\color{green}{\\sum_k\n",
    "\\dfrac{\\partial E}{\\partial a^{l+1}_k}\n",
    "\\dfrac{\\partial a^{l+1}_k}{\\partial z^l_j}\n",
    "\\dfrac{\\partial z^l_j}{\\partial a^l_j}}\n",
    "\\right)\n",
    "\\dfrac{\\partial a^l_j}{\\partial w^l_{ji}} = \n",
    "\\color{green}{\\delta^{l}_j}~\\dfrac{\\partial a^{l}_j}{\\partial w^{l}_{ji}} = \n",
    "\\delta^l_j~z^{l-1}_{i},\n",
    "$$\n",
    "\n",
    "where $a^{l}_j = \\sum_i w^{l}_{ji}~z^{l-1}_i + b^{l}_j$ and $z^{l}_j = h(a^{l}_j).$\n",
    "\n",
    "Notice how the terms in $\\delta^{l}_j$ are easy to compute: $\\partial E  / \\partial a^{l+1}_k = \\delta^{l+1}_k$ is known (we start from the last layer). $\\partial a^{l+1}_k / \\partial z^{l}_j$ is something new, but we can easily compute this term too. \n",
    "We notice that:\n",
    "$$a^{l+1}_k = \\sum_j w^{l+1}_{kj} z^{l}_{j} + b_k,$$\n",
    "and $\\partial a^{l+1}_k / \\partial z^{l}_j = w^{l+1}_{kj}$. \n",
    "Finally $\\partial z^l_j / \\partial a^l_j$ is just the partial derivative of the activation (as before).\n",
    "\n",
    "We can now write the general recursive form for error propagation:\n",
    "\n",
    "$$\\delta^{l}_j = \\left(\\sum_k \\delta^{l+1}_k w^{l+1}_{kj}\\right) \\dfrac{\\partial z^l_j}{\\partial a^l_j}$$"
   ]
  },
  {
   "cell_type": "markdown",
   "metadata": {
    "colab_type": "text",
<<<<<<< Updated upstream
    "id": "uDjCFCCDFtH5"
=======
    "id": "Rjo4xfcFPyOb"
>>>>>>> Stashed changes
   },
   "source": [
    "#### Putting it all together.\n",
    "\n",
    "Here we are! Everything boils down to recursively finding the errors $\\delta^{l}$ starting from the last layer $L$ backward. When you have $\\delta^{l}$, you just need a final multiplication with activations to find the partial derivative wrt the parameters for the layer.\n",
    "Let's write the steps in matrix form:\n",
    "\n",
    "* Errror for the last layer $L$:\n",
    "$$\\delta^{L} = \\nabla_z E \\circ h'(a^{L}).$$\n",
    "* Error for any layer $l$:\n",
    "$$\\delta^l = ((W^{l+1})^{T} \\delta^{l+1}) \\circ h'(a^{l}).$$\n",
    "* Partial derivative cost for $w$: \n",
    "$$\\dfrac{\\partial E}{\\partial w^{l}} = \\delta^{l} z^{l-1}.$$\n",
    "* Partial derivative cost for $b$:\n",
    "$$\\dfrac{\\partial E}{\\partial b^{l}} = \\delta^{l}.$$"
   ]
  },
  {
   "cell_type": "code",
<<<<<<< Updated upstream
   "execution_count": null,
   "metadata": {
    "colab": {},
    "colab_type": "code",
    "collapsed": true,
    "id": "E5VYbaVqFtH5"
=======
   "execution_count": 50,
   "metadata": {
    "colab": {},
    "colab_type": "code",
    "id": "AtbaCWTyPyOb"
>>>>>>> Stashed changes
   },
   "outputs": [],
   "source": [
    "def backward_pass(x, t, y, z, a, NN, activations, loss_f):\n",
    "    \"\"\"\n",
    "    This function performs a backward pass ITERATIVELY. It saves lists all of the derivatives in the process\n",
    "    \n",
    "    Input:\n",
    "    x:           The input used for the batch                (np.array)\n",
    "    t:           The observed targets                        (np.array, the first dimension must be the same to x)\n",
    "    y:           The output of the forward_pass of NN for x  (np.array, must have the same shape as t)\n",
    "    \n",
    "    a:           The affine transforms from the forward_pass (np.array) # a^{l+1}= W^{l} z^{l} + b^{l}\n",
    "    z:           The activated units from the forward_pass (np.array)   # z^{l+1}=f(a^{l+1})\n",
    "    \n",
    "    activations: The activations to be used                  (list of functions)\n",
    "    loss_f:        The loss function to be used                (one function)\n",
    "    \n",
    "    Output:\n",
    "    g_w: A list of gradients for every weight\n",
    "    g_b: A list of gradients for every bias\n",
    "    \n",
    "    Shapes for the einsum:\n",
    "    b: batch size\n",
    "    i: size of the input hidden layer (layer l)\n",
    "    o: size of the output (layer l+1)\n",
    "    \"\"\"\n",
    "    \n",
    "    BS = x.shape[0] # Implied batch shape \n",
    "    \n",
    "    # Process the last layer - Reference: Error propagation - final layer $L$.\n",
    "    \n",
    "    # First, let's compute the list of derivatives of z with respect to a\n",
    "    # these derivative are standardized and automatically handled by the activations functions defined above.\n",
    "    d_a = []\n",
    "    # dz/da\n",
    "    for i in range(len(activations)):\n",
    "        d_za = activations[i](a[i], derivative=True)\n",
    "        d_a.append(d_za)\n",
    "    \n",
    "    # Second, let's compute the derivative of the loss function with respect to z\n",
    "    # targets\n",
    "    t = t.reshape(BS, -1)\n",
    "    \n",
    "    # derivative loss wrt y\n",
    "    # dE/dy  where y=z[-1]\n",
<<<<<<< Updated upstream
    "    d_loss = 0      # <- Insert correct expression here\n",
=======
    "    d_loss = loss_f(t,y,derivative=True)      # <- Insert correct expression here\n",
>>>>>>> Stashed changes
    "    \n",
    "     \n",
    "    # Third, let's compute the derivative of the biases and the weights\n",
    "    g_w   = [] # List to save the gradient w.r.t. the weights\n",
    "    g_b   = [] # List to save the gradients w.r.t. the biases\n",
    "    \n",
    "    # delta : measure of error in the final layer L\n",
    "    # delta = dE/dy * dy/da\n",
    "    delta = np.einsum('bo, bo -> bo', d_loss, d_a[-1]) # loss shape: (b, o); pre-activation units shape: (b, o) hadamard product\n",
    "    \n",
    "    # affine transformation\n",
    "    # a = W z + b\n",
    "    \n",
    "    # dE/dw = (dE/dy * dy/da) da/dw = delta * da/dw\n",
    "    # notice how the gradients wrt the weights have dimension (batch, input_dim, output_dim)\n",
    "    g_w.append(np.mean(np.einsum('bo, bi -> bio', delta, z[-2]), axis=0)) # delta shape: (b, o), activations shape: (b, h)\n",
    "    \n",
    "    # dE/db = (dE/dy * dy/da) da/db = delta * da/db\n",
    "    g_b.append(np.mean(delta, axis=0))\n",
    "    \n",
    "    \n",
    "    # Process all the other layers - Reference: Error propagation - layer $l$\n",
    "    for l in range(1, len(NN[0])):\n",
    "        \n",
    "        W = NN[0][-l] \n",
    "        # dE/dz^{l} = dE/da^{l+1} * da^{l+1}/dz^{l} = delta^{l+1} * w^{l+1}\n",
    "        d_E_d_z = np.einsum('bo, io -> bi', delta, W)          # Derivative of the loss with respect to an activated layer d_E_d_z. \n",
    "                                                               #  delta shape: as above; weights shape: (i, o)\n",
    "                                                               # Delta: d_E_d_z (element-wise mult) derivative of the activation layers\n",
    "                                                               #  delta shape: as above; d_z shape: (b, i)  \n",
    "        \n",
    "        # delta : measure of error for a generic layer l \n",
<<<<<<< Updated upstream
    "        # dE/dz * dz/da \n",
    "        delta = 0      # <- Insert correct expression here \n",
=======
    "        # delta = dE/dz * dz/da \n",
    "        delta = np.einsum('bo, bo -> bo', d_E_d_z, d_a[-l-1])      # <- Insert correct expression here \n",
>>>>>>> Stashed changes
    "        \n",
    "        # affine transformation\n",
    "        # a = Wz + b\n",
    "        \n",
    "        # dE/dw = delta * da/dw\n",
    "        g_w.append(np.mean(np.einsum('bo, bi -> bio', delta, z[-l-2]), axis=0)) # Derivative of cost with respect to weights in layer l:\n",
    "        \n",
    "        # dE/db = delta                                                                 # delta shape: as above; activations of l-1 shape: (b, i)\n",
    "        g_b.append(np.mean(delta, axis=0))\n",
    "        \n",
<<<<<<< Updated upstream
    "    return g_b[::-1], g_w[::-1]"
=======
    "    return g_b[::-1], g_w[::-1] # reverse"
>>>>>>> Stashed changes
   ]
  },
  {
   "cell_type": "markdown",
   "metadata": {
    "colab_type": "text",
<<<<<<< Updated upstream
    "id": "D7d7qK0uFtH9"
=======
    "id": "b7AdK6S9PyOe"
>>>>>>> Stashed changes
   },
   "source": [
    "# Backward pass unit test"
   ]
  },
  {
   "cell_type": "markdown",
   "metadata": {
    "colab_type": "text",
<<<<<<< Updated upstream
    "id": "SGiqQ0ePFtH9"
=======
    "id": "u6ork0_ePyOf"
>>>>>>> Stashed changes
   },
   "source": [
    "We are going to perform the unit test of the backward pass with a finite difference estimation, make sure to read the description of the function and that you understand it well:"
   ]
  },
  {
   "cell_type": "markdown",
   "metadata": {
    "colab_type": "text",
<<<<<<< Updated upstream
    "id": "uiJDAZT6FtH_"
=======
    "id": "zhKXFza9PyOf"
>>>>>>> Stashed changes
   },
   "source": [
    "## Exercise f) Test correctness of derivatives with finite difference method\n",
    "\n",
    "Write a small function that uses [the finite difference method](https://en.wikipedia.org/wiki/Finite_difference_method) to test whether the backpropation implementation is working. In short we will use\n",
    "$$\n",
    "\\frac{\\partial E(w)}{\\partial w_{ij}^{(l)}} \\approx \\frac{E(v)-E(w)}{dw}\n",
    "$$\n",
    "for $dw \\ll 1$ and $v$ is the same network as $w$ apart from $v_{ij}^{(l)} = w_{ij}^{(l)} + dw$.\n",
    "\n",
    "As arguments the function should take: some data $x$ and $t$ as in the example above, the network including activations, the indices $i$, $j$, $l$ of the weight we investigate and $dw$ and return the right hand side of the expression above.\n",
    "\n",
    "_Insert your code in the cell below._\n"
   ]
  },
  {
   "cell_type": "code",
<<<<<<< Updated upstream
   "execution_count": null,
   "metadata": {
    "colab": {},
    "colab_type": "code",
    "collapsed": true,
    "id": "Om8UfjeZFtH_"
=======
   "execution_count": 51,
   "metadata": {
    "colab": {},
    "colab_type": "code",
    "id": "bMgHknlqPyOg"
>>>>>>> Stashed changes
   },
   "outputs": [],
   "source": [
    "# Insert your finite difference code here\n",
    "def finite_difference(x, t, NN, activations, indexes, dw=1e-10):\n",
    "    \"\"\"\n",
    "    This function compute the finite difference between\n",
    "    \n",
    "    Input:\n",
    "    x:           The input used for the batch                (np.array)\n",
    "    t:           The observed targets                        (np.array, the first dimension must be the same to x)\n",
    "    \n",
    "    NN: The initialized neural network                       (tuple of list of matrices)\n",
    "    activations: The activations to be used                  (list of functions)\n",
    "    \n",
    "    indexes: the indexes of the parameter we want to perturb (tuple of integers)\n",
    "             v^{l}_{ji} = w^{l}_{ji} + dw\n",
    "    \n",
    "    dw: the size of the difference                           (float)\n",
    "    \n",
    "    Output:\n",
    "    finite_difference: the magnitude of the difference       (float) \n",
    "    \"\"\"\n",
    "    \n",
    "    from copy import deepcopy\n",
    "    # l layer\n",
    "    # i input dim\n",
    "    # j output dim\n",
    "    \n",
    "    (l, i, j) = indexes\n",
    "    \n",
<<<<<<< Updated upstream
    "    _, zw = forward_pass(x, NN, activations)\n",
    "    Ew=squared_error(t, zw[-1])\n",
    "    \n",
    "    NNv = deepcopy(NN)\n",
    "    NNv[0][l][i, j] = 0 # <- Insert correct expression \n",
    "    \n",
    "    _, zv = 0           # <- Insert correct expression\n",
    "    Ev= 0               # <- Insert correct expression\n",
=======
    "    _, zv = forward_pass(x, NN, activations)\n",
    "    Ev=squared_error(t, zv[-1])\n",
    "    \n",
    "    NNw = deepcopy(NN)\n",
    "    NNw[0][l][i, j] -= dw  # <- Insert correct expression \n",
    "    \n",
    "    _, zw = forward_pass(x, NNw, activations)           # <- Insert correct expression\n",
    "    Ew= squared_error(t, zw[-1])               # <- Insert correct expression\n",
>>>>>>> Stashed changes
    "    \n",
    "    finite_difference = (Ev - Ew) / dw\n",
    "    \n",
    "    return finite_difference"
   ]
  },
  {
   "cell_type": "markdown",
   "metadata": {
    "colab_type": "text",
<<<<<<< Updated upstream
    "id": "WcLlsejQFtID"
=======
    "id": "jVBQMTHRPyOj"
>>>>>>> Stashed changes
   },
   "source": [
    "Once you have implemented the function you can compare this number with the left hand side computed by the implementation above.\n",
    "\n",
    "Try for different parameters and different values of $dw$. Scan over a range of $dw$ values. Why does the method break down for really small $dw$?\n",
    "\n",
<<<<<<< Updated upstream
    "_Insert your written answer here._\n",
    "\n",
    "Finite differences gives us gradients without computing gradients explicitly. Why don't we use it in practice then?\n",
    "\n",
    "_Insert your written answer here._"
=======
    "**Answer:** Because of the round-off error (the loss of precision due to computer rounding of decimal quantities). If dw is smaller than the precision of computer, it will be round to 0 and comes out divide-by-zero error.\n",
    "\n",
    "Finite differences gives us gradients without computing gradients explicitly. Why don't we use it in practice then?\n",
    "\n",
    "**Answer:** Because the FDM has discretization error (disperse continuous spatial domain into a finite number of steps). In other word, it just a linear approximation of the gradient. The error is accumulated and would be far from the true gradient if we iterate it many times."
>>>>>>> Stashed changes
   ]
  },
  {
   "cell_type": "markdown",
   "metadata": {
    "colab_type": "text",
<<<<<<< Updated upstream
    "id": "PJ59iNHmFtID"
=======
    "id": "qZllpITmPyOk"
>>>>>>> Stashed changes
   },
   "source": [
    "Below is reference code that computes the finite differences for all parameters."
   ]
  },
  {
   "cell_type": "code",
<<<<<<< Updated upstream
   "execution_count": null,
   "metadata": {
    "colab": {},
    "colab_type": "code",
    "collapsed": true,
    "id": "5Zie8Q8xFtIE"
=======
   "execution_count": 52,
   "metadata": {
    "colab": {},
    "colab_type": "code",
    "id": "1K1rfLfsPyOk"
>>>>>>> Stashed changes
   },
   "outputs": [],
   "source": [
    "def finite_diff_grad(x, NN, ACT_F, epsilon=None):\n",
    "    \"\"\"\n",
    "    Finite differences gradient estimator: https://en.wikipedia.org/wiki/Finite_difference_method\n",
    "    The idea is that we can approximate the derivative of any function (f) with respect to any argument (w) by evaluating the function at (w+e)\n",
    "    where (e) is a small number and then computing the following opertion (f(w+e)-f(w))/e . Note that we would need N+1 evaluations of\n",
    "    the function in order to compute the whole Jacobian (first derivatives matrix) where N is the number of arguments. The \"+1\" comes from the\n",
    "    fact that we also need to evaluate the function at the current values of the argument.\n",
    "    \n",
    "    Input:\n",
    "    x:       The point at which we want to evaluate the gradient\n",
    "    NN:      The tuple that contains the neural network\n",
    "    ACT_F:   The activation functions in order to perform the forward pass\n",
    "    epsilon: The size of the difference\n",
    "    \n",
    "    Output:\n",
    "    Two lists, the first one contains the gradients with respect to the weights, the second with respect to the biases\n",
    "    \"\"\"\n",
    "    from copy import deepcopy\n",
    "    \n",
    "    if epsilon == None:\n",
    "        epsilon = np.finfo(np.float32).eps # Machine epsilon for float 32\n",
    "        \n",
    "    grads = deepcopy(NN)               # Copy of structure of the weights and biases to save the gradients                        \n",
    "    _ , test_z = forward_pass(x, NN_UT, ACT_F_UT) # We evaluate f(x)\n",
    "    \n",
    "    for e in range(len(NN)):                       # Iterator over elements of the NN:       weights or biases\n",
    "        for h in range(len(NN[e])):                # Iterator over the layer of the element: layer number\n",
    "            for r in range(NN[e][h].shape[0]):     # Iterator over                           row number\n",
    "                for c in range(NN[e][h].shape[1]): # Iterator over                           column number \n",
    "                    NN_copy             = deepcopy(NN)    \n",
    "                    NN_copy[e][h][r,c] += epsilon\n",
    "                    _, test_z_eps       = forward_pass(x, NN_copy, ACT_F)     # We evaluate f(x+eps)\n",
    "                    grads[e][h][r,c]    = (test_z_eps[-1]-test_z[-1])/epsilon # Definition of finite differences gradient\n",
    "    \n",
    "    return grads[0], grads[1]"
   ]
  },
  {
   "cell_type": "code",
<<<<<<< Updated upstream
   "execution_count": null,
   "metadata": {
    "colab": {},
    "colab_type": "code",
    "collapsed": true,
    "id": "GxkISRCmFtIH",
=======
   "execution_count": 53,
   "metadata": {
    "colab": {},
    "colab_type": "code",
    "id": "p9OYw9hhPyOn",
>>>>>>> Stashed changes
    "scrolled": true
   },
   "outputs": [],
   "source": [
    "### Unit test \n",
    "\n",
    "## First lest's compute the backward pass using our own function\n",
    "# Forward pass\n",
    "test_a, test_z = forward_pass(np.array([[1,1,1]]), NN_UT, ACT_F_UT)\n",
    "# Backward pass\n",
    "test_g_b, test_g_w = backward_pass(np.array([[1,1,1]]), np.array([20]), test_a[-1], test_z, test_a, NN_UT, ACT_F_UT, squared_error)\n",
    "# Estimation by finite differences\n",
    "test_fdg_w, test_fdg_b = finite_diff_grad(np.array([[1,1,1]]), NN_UT, ACT_F_UT)"
   ]
  },
  {
   "cell_type": "code",
<<<<<<< Updated upstream
   "execution_count": null,
   "metadata": {
    "colab": {},
    "colab_type": "code",
    "collapsed": true,
    "id": "Ylz9fQHsFtIL"
=======
   "execution_count": 54,
   "metadata": {
    "colab": {},
    "colab_type": "code",
    "id": "bgF9iOwEPyOr"
>>>>>>> Stashed changes
   },
   "outputs": [],
   "source": [
    "# Test whether the weights and biases are all equal as the ones we estimated using back propagation\n",
    "for l in range(len(test_g_w)):\n",
    "    assert np.allclose(test_fdg_w[l], test_g_w[l])\n",
    "    assert np.allclose(test_fdg_b[l], test_g_b[l])"
   ]
  },
  {
   "cell_type": "markdown",
   "metadata": {
    "colab_type": "text",
<<<<<<< Updated upstream
    "id": "WgBi8GOSFtIN"
=======
    "id": "ODR9CxfxPyOu"
>>>>>>> Stashed changes
   },
   "source": [
    "# Training and validation\n",
    "\n",
    "We are ready to train some neural networks! Below we give some example initializations and a training loop. Try it out. "
   ]
  },
  {
   "cell_type": "code",
<<<<<<< Updated upstream
   "execution_count": null,
   "metadata": {
    "colab": {},
    "colab_type": "code",
    "collapsed": true,
    "id": "woWYpdw6FtIO"
=======
   "execution_count": 55,
   "metadata": {
    "colab": {},
    "colab_type": "code",
    "id": "itxpfxaTPyOu"
>>>>>>> Stashed changes
   },
   "outputs": [],
   "source": [
    "# Initialize an arbitrary neural network\n",
    "#L  = [3, 16, 1]\n",
    "L  = [1, 8, 1]\n",
    "NN = init_NN(L)\n",
    "#NN = init_NN_glorot(L, uniform=True)\n",
    "#NN = init_NN_he_ReLU(L, uniform=True)\n",
    "\n",
    "ACT_F = [ReLU, Linear]\n",
    "#ACT_F = [Tanh, Linear]\n",
    "\n",
    "# Recommended hyper-parameters for 1-D: \n",
    "# L  = [1, 8, 1]\n",
    "# EPOCHS = 10000\n",
    "# BATCH_SIZE = 128 \n",
    "# LEARN_R = 2.5e-1 for Tanh and LEARN_R = 1e-1 for ReLU\n",
    "\n",
    "# Recommended hyper-parameters for 3-D: \n",
    "# L  = [3, 16, 1] \n",
    "# EPOCHS = 10000\n",
    "# BATCH_SIZE = 128 \n",
    "# LEARN_R = 5e-2 for ReLU and LEARN_R = 1e-1 for Tanh\n",
    "\n",
    "### Notice that, when we switch from tanh to relu activation, we decrease the learning rate. This is due the stability of the gradients \n",
    "## of the activation functions."
   ]
  },
  {
   "cell_type": "code",
<<<<<<< Updated upstream
   "execution_count": null,
   "metadata": {
    "colab": {},
    "colab_type": "code",
    "collapsed": true,
    "id": "mdqaqYBVFtIR"
=======
   "execution_count": 56,
   "metadata": {
    "colab": {},
    "colab_type": "code",
    "id": "nK4tc5hqPyOy"
>>>>>>> Stashed changes
   },
   "outputs": [],
   "source": [
    "# Initialize training hyperparameters\n",
<<<<<<< Updated upstream
    "EPOCHS = 20000\n",
=======
    "EPOCHS = 10000\n",
>>>>>>> Stashed changes
    "BATCH_SIZE = 128 \n",
    "LEARN_R = 1e-2 "
   ]
  },
  {
   "cell_type": "code",
<<<<<<< Updated upstream
   "execution_count": null,
   "metadata": {
    "colab": {},
    "colab_type": "code",
    "collapsed": true,
    "id": "5kfg76GMFtIW",
    "scrolled": true
   },
   "outputs": [],
   "source": [
    "train_loss = []\n",
    "val_loss = []\n",
    "\n",
    "for e in range(EPOCHS):\n",
    "    # Mini-batch indexes\n",
    "    idx = np.random.choice(x_train.shape[0], size=BATCH_SIZE)\n",
    "    # Forward pass\n",
    "    aff, units = forward_pass(x_train[idx,:], NN, ACT_F)\n",
    "    # Backward pass\n",
    "    g_b, g_w = backward_pass(x_train[idx,:], y_train[idx], units[-1], units, aff, NN, ACT_F, squared_error)\n",
    "    \n",
    "    # Stochastic gradient descent\n",
    "    for l in range(len(g_b)):\n",
    "        NN[0][l] -= LEARN_R*g_w[l]\n",
    "        NN[1][l] -= LEARN_R*g_b[l]\n",
    "        \n",
    "    # Training loss\n",
    "    _, units = forward_pass(x_train, NN, ACT_F)\n",
    "    # Estimate loss function\n",
    "    #print(np.max(squared_error(y_train, units[-1])))\n",
    "    train_loss.append(np.mean(squared_error(y_train, np.squeeze(units[-1]))))\n",
    "    \n",
    "    # Validation\n",
    "    # Forward pass\n",
    "    _, units = forward_pass(x_validation, NN, ACT_F)\n",
    "    # Estimate validation loss function\n",
    "    val_loss.append(np.mean(squared_error(y_validation, np.squeeze(units[-1]))))\n",
    "    \n",
    "    if e%500==0:\n",
    "        print(\"{:4d}\".format(e),\n",
    "              \"({:5.2f}%)\".format(e/EPOCHS*100), \n",
    "              \"Train loss: {:4.3f} \\t Validation loss: {:4.3f}\".format(train_loss[-1], val_loss[-1]))\n",
    "        \n"
=======
   "execution_count": 57,
   "metadata": {
    "colab": {
     "base_uri": "https://localhost:8080/",
     "height": 34
    },
    "colab_type": "code",
    "id": "9ZDzVfddPyO1",
    "outputId": "c0207d18-969b-4a44-8092-1ba5278ed41e",
    "scrolled": true
   },
   "outputs": [
    {
     "name": "stdout",
     "output_type": "stream",
     "text": [
      "Train loss: 0.004 \t Validation loss: 0.006\n"
     ]
    }
   ],
   "source": [
    "def train(L, NN, ACT_F, EPOCHS, BATCH_SIZE, LEARN_R):\n",
    "    train_loss = []\n",
    "    val_loss = []\n",
    "\n",
    "    for e in range(EPOCHS):\n",
    "        # Mini-batch indexes\n",
    "        idx = np.random.choice(x_train.shape[0], size=BATCH_SIZE)\n",
    "        # Forward pass\n",
    "        aff, units = forward_pass(x_train[idx,:], NN, ACT_F)\n",
    "        # Backward pass\n",
    "        g_b, g_w = backward_pass(x_train[idx,:], y_train[idx], units[-1], units, aff, NN, ACT_F, squared_error)\n",
    "        \n",
    "        # Stochastic gradient descent\n",
    "        for l in range(len(g_b)):\n",
    "            NN[0][l] -= LEARN_R*g_w[l]\n",
    "            NN[1][l] -= LEARN_R*g_b[l]\n",
    "            \n",
    "        # Training loss\n",
    "        _, units = forward_pass(x_train, NN, ACT_F)\n",
    "        # Estimate loss function\n",
    "        #print(np.max(squared_error(y_train, units[-1])))\n",
    "        train_loss.append(np.mean(squared_error(y_train, np.squeeze(units[-1]))))\n",
    "        \n",
    "        # Validation\n",
    "        # Forward pass\n",
    "        _, units = forward_pass(x_validation, NN, ACT_F)\n",
    "        # Estimate validation loss function\n",
    "        val_loss.append(np.mean(squared_error(y_validation, np.squeeze(units[-1]))))\n",
    "        \n",
    "        # if e%500==0:\n",
    "        #     print(\"{:4d}\".format(e),\n",
    "        #           \"({:5.2f}%)\".format(e/EPOCHS*100), \n",
    "        #           \"Train loss: {:4.3f} \\t Validation loss: {:4.3f}\".format(train_loss[-1], val_loss[-1]))\n",
    "\n",
    "    print(\"Train loss: {:4.3f} \\t Validation loss: {:4.3f}\".format(train_loss[-1], val_loss[-1]))        \n",
    "    return NN, train_loss, val_loss\n",
    "\n",
    "NN, train_loss, val_loss = train(L, NN, ACT_F, EPOCHS, BATCH_SIZE, LEARN_R)"
>>>>>>> Stashed changes
   ]
  },
  {
   "cell_type": "code",
<<<<<<< Updated upstream
   "execution_count": null,
   "metadata": {
    "colab": {},
    "colab_type": "code",
    "collapsed": true,
    "id": "VetyRWFwFtIY"
   },
   "outputs": [],
   "source": [
    "plt.plot(range(len(train_loss)), train_loss);\n",
    "plt.plot(range(len(val_loss)), val_loss);"
=======
   "execution_count": 58,
   "metadata": {
    "colab": {
     "base_uri": "https://localhost:8080/",
     "height": 265
    },
    "colab_type": "code",
    "id": "gWvMBeRSP8dt",
    "outputId": "d4fa79a7-d27e-464b-9f0e-d3be397328f6"
   },
   "outputs": [
    {
     "data": {
      "image/png": "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\n",
      "text/plain": [
       "<Figure size 432x288 with 1 Axes>"
      ]
     },
     "metadata": {
      "needs_background": "light"
     },
     "output_type": "display_data"
    }
   ],
   "source": [
    "def plot_train(train_loss, val_loss):\n",
    "    plt.figure()\n",
    "    plt.plot(range(len(train_loss)), train_loss);\n",
    "    plt.plot(range(len(val_loss)), val_loss);\n",
    "\n",
    "plot_train(train_loss, val_loss)"
>>>>>>> Stashed changes
   ]
  },
  {
   "cell_type": "markdown",
   "metadata": {
    "colab_type": "text",
<<<<<<< Updated upstream
    "id": "8OgmIrM9FtIb"
=======
    "id": "CWjvveRJPyO-"
>>>>>>> Stashed changes
   },
   "source": [
    "# Testing\n",
    "\n",
    "We have kept the calculation of the test error separate in order to emphasize that you should not use the test set in optimization."
   ]
  },
  {
   "cell_type": "code",
<<<<<<< Updated upstream
   "execution_count": null,
   "metadata": {
    "colab": {},
    "colab_type": "code",
    "collapsed": true,
    "id": "HmNi7S-vFtIc"
   },
   "outputs": [],
   "source": [
    "_, units = forward_pass(x_test, NN, ACT_F)"
=======
   "execution_count": 59,
   "metadata": {
    "colab": {
     "base_uri": "https://localhost:8080/",
     "height": 34
    },
    "colab_type": "code",
    "id": "x6pjbrDXPyPC",
    "outputId": "b4724a76-7c4e-43c6-cb59-1b9925c6bc98"
   },
   "outputs": [
    {
     "name": "stdout",
     "output_type": "stream",
     "text": [
      "Test loss:  0.006\n"
     ]
    }
   ],
   "source": [
    "def test(NN,ACT_F):\n",
    "    _, units = forward_pass(x_test, NN, ACT_F)\n",
    "    print(\"Test loss:  {:4.3f}\".format(np.mean(squared_error(y_test, np.squeeze(units[-1])))))\n",
    "    return units\n",
    "\n",
    "units = test(NN,ACT_F)"
>>>>>>> Stashed changes
   ]
  },
  {
   "cell_type": "code",
<<<<<<< Updated upstream
   "execution_count": null,
   "metadata": {
    "colab": {},
    "colab_type": "code",
    "collapsed": true,
    "id": "7mmJOTSEFtIf"
   },
   "outputs": [],
   "source": [
    "plt.scatter(y_test, units[-1]);\n",
    "plt.plot([np.min(y_test), np.max(y_test)], [np.min(y_test), np.max(y_test)], color='k');\n",
    "plt.xlabel(\"y\");\n",
    "plt.ylabel(\"$\\hat{y}$\");\n",
    "plt.title(\"Model prediction vs real in the test set, the close to the line the better\")\n",
    "plt.grid(True);\n",
    "plt.axis('equal');\n",
    "plt.tight_layout();\n",
    "\n",
    "print(\"Test loss:  {:4.3f}\".format(np.mean(squared_error(y_test, np.squeeze(units[-1])))))"
=======
   "execution_count": 60,
   "metadata": {
    "colab": {
     "base_uri": "https://localhost:8080/",
     "height": 559
    },
    "colab_type": "code",
    "id": "pwfInOuhoSpt",
    "outputId": "1f51433b-924f-4397-9c4b-45b662e093f5"
   },
   "outputs": [
    {
     "data": {
      "image/png": "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\n",
      "text/plain": [
       "<Figure size 432x288 with 1 Axes>"
      ]
     },
     "metadata": {
      "needs_background": "light"
     },
     "output_type": "display_data"
    },
    {
     "data": {
      "image/png": "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\n",
      "text/plain": [
       "<Figure size 432x288 with 1 Axes>"
      ]
     },
     "metadata": {
      "needs_background": "light"
     },
     "output_type": "display_data"
    }
   ],
   "source": [
    "def plot_test(units):\n",
    "    plt.figure()\n",
    "    plt.scatter(y_test, units[-1]);\n",
    "    plt.plot([np.min(y_test), np.max(y_test)], [np.min(y_test), np.max(y_test)], color='k');\n",
    "    plt.xlabel(\"y\");\n",
    "    plt.ylabel(\"$\\hat{y}$\");\n",
    "    plt.title(\"Model prediction vs real in the test set, the close to the line the better\")\n",
    "    plt.grid(True);\n",
    "    plt.axis('equal');\n",
    "    plt.tight_layout();\n",
    "\n",
    "    plt.figure()\n",
    "    if D1:\n",
    "        plt.scatter(x_train[:,0], y_train, label=\"train data\");\n",
    "        plt.scatter(x_test[:,0], units[-1], label=\"test prediction\");\n",
    "        plt.scatter(x_test[:,0], y_test, label=\"test data\");\n",
    "        plt.legend();\n",
    "        plt.xlabel(\"x\");\n",
    "        plt.ylabel(\"y\");\n",
    "    else:\n",
    "        plt.scatter(x_train[:,1], y_train, label=\"train data\");\n",
    "        plt.scatter(x_test[:,1], units[-1], label=\"test data prediction\");\n",
    "        plt.scatter(x_test[:,1], y_test, label=\"test data\");\n",
    "        plt.legend();\n",
    "        plt.xlabel(\"x\");\n",
    "        plt.ylabel(\"y\");\n",
    "\n",
    "plot_test(units)"
>>>>>>> Stashed changes
   ]
  },
  {
   "cell_type": "code",
   "execution_count": null,
   "metadata": {
    "colab": {},
    "colab_type": "code",
<<<<<<< Updated upstream
    "collapsed": true,
    "id": "ODi0WlmQFtIh"
   },
   "outputs": [],
   "source": [
    "if D1:\n",
    "    plt.scatter(x_train[:,0], y_train, label=\"train data\");\n",
    "    plt.scatter(x_test[:,0], units[-1], label=\"test prediction\");\n",
    "    plt.scatter(x_test[:,0], y_test, label=\"test data\");\n",
    "    plt.legend();\n",
    "    plt.xlabel(\"x\");\n",
    "    plt.ylabel(\"y\");\n",
    "else:\n",
    "    plt.scatter(x_train[:,1], y_train, label=\"train data\");\n",
    "    plt.scatter(x_test[:,1], units[-1], label=\"test data prediction\");\n",
    "    plt.scatter(x_test[:,1], y_test, label=\"test data\");\n",
    "    plt.legend();\n",
    "    plt.xlabel(\"x\");\n",
    "    plt.ylabel(\"y\");"
   ]
=======
    "id": "frw2fbkDPyPF"
   },
   "outputs": [],
   "source": []
>>>>>>> Stashed changes
  },
  {
   "cell_type": "markdown",
   "metadata": {
    "colab_type": "text",
<<<<<<< Updated upstream
    "id": "zTBAmjsAFtIk"
=======
    "id": "yNdlXYI9PyPJ"
>>>>>>> Stashed changes
   },
   "source": [
    "## Exercise g) Show overfitting, underfitting and just right fitting\n",
    "\n",
    "Vary the architecture and other things to show clear signs of overfitting (=training loss significantly lower than test loss) and underfitting (=not fitting enoung to training data so that test performance is also hurt).\n",
    "\n",
    "See also if you can get a good compromise which leads to a low validation loss. \n",
    "\n",
    "For this problem do you see any big difference between validation and test loss? The answer here will probably be no. Discuss cases where it is important to keep the two separate.\n",
    "\n",
<<<<<<< Updated upstream
    "_Insert written answer here._\n"
=======
    "**Answer:** Because we used hold-out cross-validation here, so validation and test data set are no difference to our network since they are not used for training. But if we use other cross-valitation methods like K-folder or leave-one-out, the validation dataset is changing while training and it will also used for training, however, The test data set must be something the network has never seen before. \n"
>>>>>>> Stashed changes
   ]
  },
  {
   "cell_type": "code",
<<<<<<< Updated upstream
   "execution_count": null,
   "metadata": {
    "colab": {},
    "colab_type": "code",
    "collapsed": true,
    "id": "tQZCn2dxFtIl"
   },
   "outputs": [],
   "source": [
    "# Insert your code for getting overfitting, underfitting and just right fitting"
=======
   "execution_count": 61,
   "metadata": {
    "colab": {
     "base_uri": "https://localhost:8080/",
     "height": 281
    },
    "colab_type": "code",
    "id": "M4lq1M2YPyPK",
    "outputId": "c7d3404a-6cea-4866-c38d-d75dd4d5fe1d"
   },
   "outputs": [
    {
     "name": "stdout",
     "output_type": "stream",
     "text": [
      "Train loss: 0.009 \t Validation loss: 0.013\n"
     ]
    },
    {
     "data": {
      "image/png": "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\n",
      "text/plain": [
       "<Figure size 432x288 with 1 Axes>"
      ]
     },
     "metadata": {
      "needs_background": "light"
     },
     "output_type": "display_data"
    }
   ],
   "source": [
    "# Insert your code for getting overfitting, underfitting and just right fitting\n",
    "\n",
    "# The above result is just right fitting because both trainning and testing error are low and the two values are very close.\n",
    "# The first below result is overfitting because the trainning is low but testing error is high.\n",
    "# The second below result is underfitting because both trainning and testing error are high.\n",
    "\n",
    "# overfitting\n",
    "L  = [3, 8, 8, 1]\n",
    "NN = init_NN(L)\n",
    "ACT_F = [ReLU, ReLU, Linear]\n",
    "EPOCHS = 10000\n",
    "BATCH_SIZE = 128 \n",
    "LEARN_R = 1e-1\n",
    "\n",
    "NN, train_loss, val_loss = train(L, NN, ACT_F, EPOCHS, BATCH_SIZE, LEARN_R)\n",
    "plot_train(train_loss, val_loss)"
   ]
  },
  {
   "cell_type": "code",
   "execution_count": 105,
   "metadata": {
    "colab": {
     "base_uri": "https://localhost:8080/",
     "height": 576
    },
    "colab_type": "code",
    "id": "VVEWBVZdtriR",
    "outputId": "95a52cdb-2f3e-4a20-97dd-8d4814fadba5"
   },
   "outputs": [
    {
     "name": "stdout",
     "output_type": "stream",
     "text": [
      "Test loss:  0.051\n"
     ]
    },
    {
     "data": {
      "image/png": "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\n",
      "text/plain": [
       "<Figure size 432x288 with 1 Axes>"
      ]
     },
     "metadata": {
      "needs_background": "light",
      "tags": []
     },
     "output_type": "display_data"
    },
    {
     "data": {
      "image/png": "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\n",
      "text/plain": [
       "<Figure size 432x288 with 1 Axes>"
      ]
     },
     "metadata": {
      "needs_background": "light",
      "tags": []
     },
     "output_type": "display_data"
    }
   ],
   "source": [
    "units = test(NN,ACT_F)\n",
    "plot_test(units)"
   ]
  },
  {
   "cell_type": "code",
   "execution_count": 62,
   "metadata": {
    "colab": {
     "base_uri": "https://localhost:8080/",
     "height": 281
    },
    "colab_type": "code",
    "id": "PJWD7uaroMfk",
    "outputId": "4d7966da-4ac9-4e7c-82b9-e7873a1ba8be"
   },
   "outputs": [
    {
     "name": "stdout",
     "output_type": "stream",
     "text": [
      "Train loss: 0.020 \t Validation loss: 0.026\n"
     ]
    },
    {
     "data": {
      "image/png": "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\n",
      "text/plain": [
       "<Figure size 432x288 with 1 Axes>"
      ]
     },
     "metadata": {
      "needs_background": "light"
     },
     "output_type": "display_data"
    }
   ],
   "source": [
    "# underfitting\n",
    "L  = [1, 1, 1]\n",
    "NN = init_NN(L)\n",
    "ACT_F = [ReLU, Linear]\n",
    "EPOCHS = 10000\n",
    "BATCH_SIZE = 128 \n",
    "LEARN_R = 1e-1\n",
    "\n",
    "NN, train_loss, val_loss = train(L, NN, ACT_F, EPOCHS, BATCH_SIZE, LEARN_R)\n",
    "plot_train(train_loss, val_loss)"
   ]
  },
  {
   "cell_type": "code",
   "execution_count": 63,
   "metadata": {
    "colab": {
     "base_uri": "https://localhost:8080/",
     "height": 576
    },
    "colab_type": "code",
    "id": "k_F8tAXuu9cv",
    "outputId": "60f8f004-32b1-419c-ec11-7830123d8ed8"
   },
   "outputs": [
    {
     "name": "stdout",
     "output_type": "stream",
     "text": [
      "Test loss:  0.023\n"
     ]
    },
    {
     "data": {
      "image/png": "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\n",
      "text/plain": [
       "<Figure size 432x288 with 1 Axes>"
      ]
     },
     "metadata": {
      "needs_background": "light"
     },
     "output_type": "display_data"
    },
    {
     "data": {
      "image/png": "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\n",
      "text/plain": [
       "<Figure size 432x288 with 1 Axes>"
      ]
     },
     "metadata": {
      "needs_background": "light"
     },
     "output_type": "display_data"
    }
   ],
   "source": [
    "units = test(NN,ACT_F)\n",
    "plot_test(units)"
>>>>>>> Stashed changes
   ]
  },
  {
   "cell_type": "markdown",
   "metadata": {
    "colab_type": "text",
<<<<<<< Updated upstream
    "id": "fYPZP-eTFtIo"
=======
    "id": "xAHqp_qjPyPP"
>>>>>>> Stashed changes
   },
   "source": [
    "# Next steps - classification\n",
    "\n",
    "It is straight forward to extend what we have done to classification. \n",
    "\n",
    "For numerical stability it is better to make softmax and cross-entropy as one function so we write the cross entropy loss as a function of the logits we talked about last week. \n",
    "\n",
    "Next week we will see how to perform classification in PyTorch."
   ]
  },
  {
   "cell_type": "markdown",
   "metadata": {
    "colab_type": "text",
<<<<<<< Updated upstream
    "id": "qsVPul3QFtIo"
=======
    "id": "JZFxDb5MPyPP"
>>>>>>> Stashed changes
   },
   "source": [
    "## Exercise h) optional - Implement backpropagation for classification\n",
    "\n",
    "Should be possible with very few lines of code. :-)"
   ]
  },
  {
   "cell_type": "code",
   "execution_count": null,
   "metadata": {
    "colab": {},
    "colab_type": "code",
<<<<<<< Updated upstream
    "collapsed": true,
    "id": "oC8QrI2tFtIp"
=======
    "id": "-nHAKSTPPyPR"
>>>>>>> Stashed changes
   },
   "outputs": [],
   "source": [
    "# Just add code."
   ]
  }
 ],
 "metadata": {
  "anaconda-cloud": {},
  "colab": {
<<<<<<< Updated upstream
=======
   "collapsed_sections": [
    "Qw8Lk5tSPyNz",
    "NKMcdhZGPyN1",
    "lK2NEKf1PyN2",
    "dsLiXFzlPyN3",
    "pLx3pJEJPyN4",
    "jeDe9N6MPyN5",
    "lwcG4lKiPyOY",
    "D36pPP1hPyOZ",
    "vHZ2KupNPyOZ",
    "V_kNxuKAPyOa"
   ],
>>>>>>> Stashed changes
   "name": "2.1-FNN-NumPy.ipynb",
   "provenance": []
  },
  "kernelspec": {
   "display_name": "Python 3",
   "language": "python",
   "name": "python3"
  },
  "language_info": {
   "codemirror_mode": {
    "name": "ipython",
    "version": 3
   },
   "file_extension": ".py",
   "mimetype": "text/x-python",
   "name": "python",
   "nbconvert_exporter": "python",
   "pygments_lexer": "ipython3",
<<<<<<< Updated upstream
   "version": "3.6.3"
=======
   "version": "3.7.3"
  },
  "varInspector": {
   "cols": {
    "lenName": 16,
    "lenType": 16,
    "lenVar": 40
   },
   "kernels_config": {
    "python": {
     "delete_cmd_postfix": "",
     "delete_cmd_prefix": "del ",
     "library": "var_list.py",
     "varRefreshCmd": "print(var_dic_list())"
    },
    "r": {
     "delete_cmd_postfix": ") ",
     "delete_cmd_prefix": "rm(",
     "library": "var_list.r",
     "varRefreshCmd": "cat(var_dic_list()) "
    }
   },
   "types_to_exclude": [
    "module",
    "function",
    "builtin_function_or_method",
    "instance",
    "_Feature"
   ],
   "window_display": false
>>>>>>> Stashed changes
  }
 },
 "nbformat": 4,
 "nbformat_minor": 1
}
