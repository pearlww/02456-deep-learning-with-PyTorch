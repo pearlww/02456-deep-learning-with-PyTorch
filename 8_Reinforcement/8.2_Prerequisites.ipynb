{
 "cells": [
  {
   "cell_type": "markdown",
   "metadata": {},
   "source": [
    "# Prerequisites\n",
    "\n",
    "> By Jonas Busk ([jbusk@dtu.dk](mailto:jbusk@dtu.dk))\n",
    "\n",
    "**2019 update:** Changes have been made to the display of environments due to the previous `viewer` being incompatible with newer versions of Gym.\n",
    "\n",
    "In this lab we will create neural network reinforcement learning agents with [PyTorch](https://pytorch.org/) to navigate various environments from [OpenAI Gym](https://gym.openai.com/) developed by [OpenAI](https://openai.com/).\n",
    "\n",
    "Please refer to the [docs](https://gym.openai.com/docs/) on how to get started with Gym. You are also encouraged to take a look at this short [post on the OpenAI blog](https://blog.openai.com/openai-gym-beta/)."
   ]
  },
  {
   "cell_type": "markdown",
   "metadata": {},
   "source": [
    "## Installation\n",
    "\n",
    "Below is a brief guide on how to install OpenAI Gym. For more details, please refer to the repository on [GitHub](https://github.com/openai/gym) and the [docs](https://gym.openai.com/docs).\n",
    "\n",
    "You can do a minimal install of the packaged version of Gym directly from PyPI:\n",
    "\n",
    "```\n",
    "pip install gym\n",
    "```\n",
    "\n",
    "Or you can perform a minimal install from GitHub:\n",
    "\n",
    "```\n",
    "git clone https://github.com/openai/gym.git\n",
    "cd gym\n",
    "pip install -e .\n",
    "```\n",
    "\n",
    "If you like, you can do a quick pip install of Gym in the cell below:"
   ]
  },
  {
   "cell_type": "code",
   "execution_count": null,
   "metadata": {},
   "outputs": [],
   "source": [
    "!pip install gym"
   ]
  },
  {
   "cell_type": "markdown",
   "metadata": {},
   "source": [
    "You will also need an installation of `ffmpeg` locally. If you do not have it installed already, you can install it by one of the following commands depending on your system:\n",
    "\n",
    "```sudo apt-get install ffmpeg``` (Linux)\n",
    "\n",
    "```conda install -c conda-forge ffmpeg``` (Anaconda)"
   ]
  },
  {
   "cell_type": "markdown",
   "metadata": {},
   "source": [
    "## Running an environment\n",
    "\n",
    "Here is a bare minimum example of running a Gym environment. This creates an instance of the [CartPole-v0](https://gym.openai.com/envs/CartPole-v0) environment and runs until the rollout is done, taking random actions and rendering the environment at each step. With Gym installed, you should be able to see a small animation of the environment below.\n",
    "\n",
    "**Note:** you will likely not be able to render environments in a Google Colab instance. Therefore, it may be beneficial for you to run this week's notebooks locally and/or team up with another student if you do not have a local environment."
   ]
  },
  {
   "cell_type": "code",
   "execution_count": 1,
   "metadata": {},
   "outputs": [
    {
     "data": {
      "text/html": [
       "\n",
       "        <video width=\"360\" height=\"auto\" alt=\"test\" controls><source src=\"data:video/mp4;base64,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\" type=\"video/mp4\" /></video>"
      ],
      "text/plain": [
       "<IPython.core.display.HTML object>"
      ]
     },
     "execution_count": 1,
     "metadata": {},
     "output_type": "execute_result"
    }
   ],
   "source": [
    "import gym\n",
    "from gym import wrappers\n",
    "\n",
    "env = gym.make('CartPole-v0') # Create environment\n",
    "env = wrappers.Monitor(env, \"./gym-results\", force=True) # Create wrapper to display environment\n",
    "env.reset() # Reset environment\n",
    "\n",
    "# Run environment\n",
    "while True:\n",
    "    env.render() # Render environment\n",
    "    action = env.action_space.sample() # Get a random action\n",
    "    _, _, done, _ = env.step(action) # Take a step\n",
    "    if done: break # Break if environment is done\n",
    "\n",
    "env.close() # Close environment\n",
    "\n",
    "def show_replay():\n",
    "    \"\"\"\n",
    "    Not-so-elegant way to display the MP4 file generated by the Monitor wrapper inside a notebook.\n",
    "    The Monitor wrapper dumps the replay to a local file that we then display as a HTML video object.\n",
    "    \"\"\"\n",
    "    import io\n",
    "    import base64\n",
    "    from IPython.display import HTML\n",
    "    video = io.open('./gym-results/openaigym.video.%s.video000000.mp4' % env.file_infix, 'r+b').read()\n",
    "    encoded = base64.b64encode(video)\n",
    "    return HTML(data='''\n",
    "        <video width=\"360\" height=\"auto\" alt=\"test\" controls><source src=\"data:video/mp4;base64,{0}\" type=\"video/mp4\" /></video>'''\n",
    "    .format(encoded.decode('ascii')))\n",
    "    \n",
    "show_replay()"
   ]
  },
  {
   "cell_type": "markdown",
   "metadata": {},
   "source": [
    "Hooray! You now have a working `Gym` environment that we can take actions in and render."
   ]
  }
 ],
 "metadata": {
  "kernelspec": {
   "display_name": "Python 3",
   "language": "python",
   "name": "python3"
  },
  "language_info": {
   "codemirror_mode": {
    "name": "ipython",
    "version": 3
   },
   "file_extension": ".py",
   "mimetype": "text/x-python",
   "name": "python",
   "nbconvert_exporter": "python",
   "pygments_lexer": "ipython3",
   "version": "3.7.3"
  },
  "varInspector": {
   "cols": {
    "lenName": 16,
    "lenType": 16,
    "lenVar": 40
   },
   "kernels_config": {
    "python": {
     "delete_cmd_postfix": "",
     "delete_cmd_prefix": "del ",
     "library": "var_list.py",
     "varRefreshCmd": "print(var_dic_list())"
    },
    "r": {
     "delete_cmd_postfix": ") ",
     "delete_cmd_prefix": "rm(",
     "library": "var_list.r",
     "varRefreshCmd": "cat(var_dic_list()) "
    }
   },
   "types_to_exclude": [
    "module",
    "function",
    "builtin_function_or_method",
    "instance",
    "_Feature"
   ],
   "window_display": false
  }
 },
 "nbformat": 4,
 "nbformat_minor": 2
}
